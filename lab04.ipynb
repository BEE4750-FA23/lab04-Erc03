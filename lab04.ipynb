{
  "cells": [
    {
      "cell_type": "markdown",
      "id": "90beb0c6-974d-46b2-9c08-9ef2be07ab1f",
      "metadata": {},
      "source": [
        "# BEE 4750 Lab 4: Simulation-Optimization\n",
        "\n",
        "**Name**: Emma Rose Connolly\n",
        "\n",
        "**ID**: erc76\n",
        "\n",
        "> **Due Date**\n",
        ">\n",
        "> Friday, 11/17/23, 9:00pm\n",
        "\n",
        "## Setup\n",
        "\n",
        "The following code should go at the top of most Julia scripts; it will\n",
        "load the local package environment and install any needed packages. You\n",
        "will see this often and shouldn’t need to touch it."
      ]
    },
    {
      "cell_type": "code",
      "execution_count": 1,
      "id": "1cfc4bb2",
      "metadata": {},
      "outputs": [
        {
          "name": "stderr",
          "output_type": "stream",
          "text": [
            "\u001b[32m\u001b[1m  Activating\u001b[22m\u001b[39m project at `~/Desktop/classes/Semester 5/BEE 4750/labs/lab04-Erc03`\n"
          ]
        }
      ],
      "source": [
        "import Pkg\n",
        "Pkg.activate(\".\")\n",
        "Pkg.instantiate()"
      ]
    },
    {
      "cell_type": "code",
      "execution_count": 2,
      "id": "fb72ea2d",
      "metadata": {},
      "outputs": [],
      "source": [
        "using Random # for random seeds\n",
        "using Distributions # statistical distribution interface\n",
        "using Roots # find zeros of functions\n",
        "using Metaheuristics # search algorithms\n",
        "using Plots # plotting"
      ]
    },
    {
      "cell_type": "markdown",
      "id": "1a1312ab-edba-494c-bd21-099b74084719",
      "metadata": {},
      "source": [
        "## Overview\n",
        "\n",
        "In this lab, you will experiment with simulation-optimization with the\n",
        "shallow lake problem. The goal of this experimentation is to get an\n",
        "understanding of how to work with simulation-optimization methods and\n",
        "the impact of some choices involved in using these methods.\n",
        "\n",
        "Free free to delete some of the illustrative cells and code blocks in\n",
        "your notebook as you go through and solve the lab problems…this might\n",
        "help reduce some potential confusion while grading about what your\n",
        "answer is."
      ]
    },
    {
      "cell_type": "markdown",
      "id": "6f5987aa-03f4-444d-815a-cfc39e5d9a39",
      "metadata": {},
      "source": [
        "## Introduction\n",
        "\n",
        "Due to ongoing economic activity, a town emits phosphorous into a\n",
        "shallow lake (with a concentration of $a_t$), which also receives\n",
        "non-point source runoff (concentration $y_t$) from the surrounding area.\n",
        "The concentration of the lake at time $t+1$ is given by\n",
        "$$X_{t+1} = X_t + a_t + y_t + \\frac{X_t^q}{1+X_t^q} - bX_t,$$\n",
        "\n",
        "where:\n",
        "\n",
        "| Parameter | Value                                                |\n",
        "|:---------:|:-----------------------------------------------------|\n",
        "|   $a_t$   | point-source phosphorous concentration from the town |\n",
        "|   $y_t$   | non-point-source phosphorous concentration           |\n",
        "|    $q$    | rate at which phosphorous is recycled from sediment  |\n",
        "|    $b$    | rate at which phosphorous leaves the lake            |\n",
        "\n",
        "and $X_0 = 0$, $y_t \\sim LogNormal(\\log(0.03), 0.25)$, $q=2.5$, and\n",
        "$b=0.4$.\n",
        "\n",
        "The goal of the optimization is to maximize the town’s average\n",
        "phosphorous concentration releases (as a proxy of economic activity):\n",
        "$\\max \\sum_{t=1}^T a_t / T$ over a 100-year period. We have decided\n",
        "(initially) that an acceptable solution is one which will result in the\n",
        "lake eutrophying no more than 10% of the time.\n",
        "\n",
        "The non-point source samples can be sampled using the following code\n",
        "block:"
      ]
    },
    {
      "cell_type": "code",
      "execution_count": 3,
      "id": "fefe59f0",
      "metadata": {},
      "outputs": [
        {
          "data": {
            "text/plain": [
              "100×1000 Matrix{Float64}:\n",
              " 0.0294753  0.0459864  0.023513   …  0.0259183  0.0260934  0.0284652\n",
              " 0.034263   0.0222782  0.0459188     0.0288482  0.0480454  0.0531018\n",
              " 0.0245199  0.0296271  0.0445619     0.0246404  0.0250734  0.0304308\n",
              " 0.055448   0.0312     0.0228208     0.0298609  0.0428105  0.0256198\n",
              " 0.0401417  0.024978   0.0458244     0.0228935  0.0286062  0.0238694\n",
              " 0.0320754  0.021759   0.0471452  …  0.0472771  0.0187508  0.0306753\n",
              " 0.0464641  0.0416385  0.0246833     0.0382252  0.0288505  0.0226561\n",
              " 0.0244027  0.0432707  0.0341214     0.0238988  0.0427204  0.0316143\n",
              " 0.0231156  0.0279197  0.0217747     0.0231772  0.0335662  0.0324465\n",
              " 0.0276303  0.0305858  0.0440326     0.0289394  0.0312328  0.0173388\n",
              " ⋮                                ⋱                        \n",
              " 0.025665   0.0341366  0.0274747     0.0283546  0.0458031  0.0277959\n",
              " 0.0405629  0.0421121  0.0252557     0.0450377  0.0284411  0.0206434\n",
              " 0.0228445  0.0223746  0.0210942     0.0442834  0.0337672  0.0287835\n",
              " 0.0252604  0.0462868  0.0358435     0.0146043  0.023085   0.0240258\n",
              " 0.0237704  0.0378816  0.0291353  …  0.0442565  0.0326019  0.021258\n",
              " 0.0335883  0.0218181  0.0331417     0.0510932  0.0366858  0.0296993\n",
              " 0.0312679  0.0187135  0.0534007     0.0451143  0.026161   0.0183542\n",
              " 0.0382682  0.0310429  0.0296539     0.0471901  0.0283451  0.0219015\n",
              " 0.0256315  0.0232021  0.0239607     0.0350929  0.0293862  0.0348934"
            ]
          },
          "metadata": {},
          "output_type": "display_data"
        }
      ],
      "source": [
        "Random.seed!(1)\n",
        "\n",
        "T = 100 # length of simualtion\n",
        "n_samples = 1_000 # replace with number of samples if you experiment\n",
        "\n",
        "P_distribution = LogNormal(log(0.03), 0.25)\n",
        "y = rand(P_distribution, (T, n_samples)) # sample a T x n_samples matrix"
      ]
    },
    {
      "cell_type": "markdown",
      "id": "374123a9-ce10-4e33-bd56-040d0f5450c0",
      "metadata": {},
      "source": [
        "We write the lake model as a function:"
      ]
    },
    {
      "cell_type": "code",
      "execution_count": 4,
      "id": "e8eaa7b0",
      "metadata": {},
      "outputs": [
        {
          "data": {
            "text/plain": [
              "lake (generic function with 1 method)"
            ]
          },
          "metadata": {},
          "output_type": "display_data"
        }
      ],
      "source": [
        "# lake function model\n",
        "# inputs:\n",
        "#   a: vector of point-source releases (to be optimized)\n",
        "#   y: randomly-sampled non-point sources\n",
        "#   q: lake phosphorous recycling rate\n",
        "#   b: phosphorous outflow rate\n",
        "# \n",
        "# returns:\n",
        "#   series of lake phosphorous concentrations\n",
        "function lake(a, y, q, b, T)\n",
        "    X = zeros(T+1, size(y, 2))\n",
        "    # calculate states\n",
        "    for t = 1:T\n",
        "        X[t+1, :] = X[t, :] .+ a[t] .+ y[t, :] .+ (X[t, :].^q./(1 .+ X[t, :].^q)) .- b.*X[t, :]\n",
        "    end\n",
        "    return X\n",
        "end"
      ]
    },
    {
      "cell_type": "markdown",
      "id": "d64f3ca7-f39a-4841-b163-3fc964a35359",
      "metadata": {},
      "source": [
        "However, this isn’t sufficient on its own! `Metaheuristics.jl` (and most\n",
        "simulation-optimization packages) require the use of a *wrapper*\n",
        "function, which accepts as inputs both parameters to be optimized (in\n",
        "this case, point-source releases `a`) and parameters which will be fixed\n",
        "(the others; see below for how to incorporate these into the syntax) and\n",
        "returns the required information for the optimization procedure.\n",
        "\n",
        "`Metaheuristics.jl` wants its optimizing wrapper function to return (in\n",
        "order):\n",
        "\n",
        "-   the objective(s) (in this case, the mean of `a`, $\\sum_t a_t / T$),\n",
        "-   a vector of the degrees to which the solution fails to achieve any\n",
        "    inequality constraints (positive values indicate a larger failure,\n",
        "    values below zero are considered acceptable)\n",
        "-   a vector of the degrees to which the solution fails to achieve any\n",
        "    equality constraints (only values of zero indicate success), which\n",
        "    in this case is not relevant, so we just return `[0.0]`."
      ]
    },
    {
      "cell_type": "code",
      "execution_count": 5,
      "id": "3b6565f9",
      "metadata": {},
      "outputs": [
        {
          "data": {
            "text/plain": [
              "lake_opt (generic function with 1 method)"
            ]
          },
          "metadata": {},
          "output_type": "display_data"
        }
      ],
      "source": [
        "# function producing optimization outputs\n",
        "# inputs:\n",
        "#   a: vector of point-source releases (to be optimized)\n",
        "#   y: randomly-sampled non-point sources\n",
        "#   q: lake phosphorous recycling rate\n",
        "#   b: phosphorous outflow rate\n",
        "# \n",
        "# returns:\n",
        "#   - objective: mean value of point-source releases\n",
        "#   - inequality constraint failure vector\n",
        "#   - equality constraint failure vector (in this case, always [0.0])\n",
        "function lake_opt(a, y, q, b, T, Xcrit)\n",
        "    X = lake(a, y, q, b, T)\n",
        "    # calculate exceedance of critical value\n",
        "    Pexceed = sum(X[T+1, :] .> Xcrit) / size(X, 2)\n",
        "    failconst = [Pexceed - 0.1] # replace 0.1 if you experiment with the failure probability\n",
        "    return mean(a), failconst, [0.0]\n",
        "end"
      ]
    },
    {
      "cell_type": "markdown",
      "id": "5b74e2e4-31f5-45e9-9eef-7f6ef3445849",
      "metadata": {},
      "source": [
        "To optimize using DE (differential evolution), use the following syntax:\n",
        "\n",
        "``` julia\n",
        "results = optimize(f, bounds, DE(options=Options(f_calls_limit=max_evals)))\n",
        "```\n",
        "\n",
        "where `bounds` is a `Matrix` of lower bounds (first row) and upper\n",
        "bounds (last row), and `max_evals` is an integer for the maximum number\n",
        "of evaluations.\n",
        "\n",
        "-   For example, to set bounds for all decision variables between 0 and\n",
        "    0.5, you can use\n",
        "\n",
        "``` julia\n",
        "bounds = [zeros(T) 0.5ones(T)]'\n",
        "```\n",
        "\n",
        "-   Increasing `max_evals` can help you find a better solution, but at a\n",
        "    larger computational expense.\n",
        "-   You can use an anonymous function to fix values for non-optimized\n",
        "    parameters, *e.g.*\n",
        "\n",
        "``` julia\n",
        "y = ...\n",
        "q = ...\n",
        "b = ...\n",
        "T = ...\n",
        "Xcrit = ...\n",
        "results = optimize(a -> lake_opt(a, y, q, b, t, Xcrit), bounds, DE(options=Options(f_calls_limit=max_evals)))\n",
        "```\n",
        "\n",
        "Then to get the approximated minimum value:\n",
        "\n",
        "``` julia\n",
        "fx = minimum(result)\n",
        "```\n",
        "\n",
        "and the approximated minimizing value:\n",
        "\n",
        "``` julia\n",
        "x = minimizer(result)\n",
        "```\n",
        "\n",
        "The last piece is to get the critical value (to identify failures),\n",
        "which we can do using `Roots.jl`, which finds zeros of functions:"
      ]
    },
    {
      "cell_type": "code",
      "execution_count": 6,
      "id": "b6bdf724",
      "metadata": {},
      "outputs": [
        {
          "data": {
            "text/plain": [
              "0.6678778690448219"
            ]
          },
          "metadata": {},
          "output_type": "display_data"
        }
      ],
      "source": [
        "q=2.5\n",
        "b= 0.4\n",
        "# define a function whose zeros are the critical values\n",
        "P_flux(x) = (x^q/(1+x^q)) - b*x\n",
        "# use Roots.find_zero() to find the non-eutrophication and non-zero critical value; we know from visual inspection in class that this is bounded between 0.1 and 1.5.\n",
        "Xcrit = find_zero(P_flux, (0.1, 1.5))"
      ]
    },
    {
      "cell_type": "markdown",
      "id": "c4728395-98d1-4dc0-9b35-783dea8dab42",
      "metadata": {},
      "source": [
        "## Problems\n",
        "\n",
        "### Problem 1 (2 points)\n",
        "\n",
        "Using the default setup above, find the approximate optimum value. What\n",
        "is the value of the objective function, and how many failures (you can\n",
        "evaluate the `lake` function using your solution to find how many\n",
        "end-values are above the critical value).\n"
      ]
    },
    {
      "cell_type": "code",
      "execution_count": 7,
      "id": "1b629272",
      "metadata": {},
      "outputs": [
        {
          "data": {
            "text/html": [
              "<pre>\n",
              "Optimization Result\n",
              "===================\n",
              "  Iteration:       5\n",
              "  Minimum:         0.193087\n",
              "  Minimizer:       [0.207163, 0.0325769, 0.427649, …, 0.249454]\n",
              "  Function calls:  5000\n",
              "  Feasibles:       0 / 1000 in final population\n",
              "  Total time:      29.7678 s\n",
              "  Stop reason:     Maximum objective function calls exceeded.\n",
              "</pre>\n"
            ],
            "text/plain": [
              "\u001b[34m\u001b[1mOptimization Result\u001b[22m\u001b[39m\n",
              "\u001b[39m===================\u001b[39m\n",
              "  Iteration:       5\n",
              "  Minimum:         0.193087\n",
              "  Minimizer:       [0.207163, 0.0325769, 0.427649, …, 0.249454]\n",
              "  Function calls:  5000\n",
              "  Feasibles:       0 / 1000 in final population\n",
              "  Total time:      29.7678 s\n",
              "  Stop reason:     Maximum objective function calls exceeded.\n"
            ]
          },
          "metadata": {},
          "output_type": "display_data"
        }
      ],
      "source": [
        "Random.seed!(1)\n",
        "bounds = [zeros(T) 0.5ones(T)]'\n",
        "q=2.5\n",
        "b= 0.4\n",
        "t=100\n",
        "Xcrit=Xcrit\n",
        "max_evals = 5000\n",
        "\n",
        "results = optimize(a -> lake_opt(a, y, q, b, t, Xcrit), bounds, DE(options=Options(f_calls_limit=max_evals)))\n"
      ]
    },
    {
      "cell_type": "code",
      "execution_count": 8,
      "id": "e2413336",
      "metadata": {},
      "outputs": [
        {
          "data": {
            "text/plain": [
              "0.19308690459714817"
            ]
          },
          "metadata": {},
          "output_type": "display_data"
        }
      ],
      "source": [
        "fx = minimum(results)"
      ]
    },
    {
      "cell_type": "code",
      "execution_count": 9,
      "id": "c124ed3a",
      "metadata": {},
      "outputs": [
        {
          "data": {
            "text/plain": [
              "100-element Vector{Float64}:\n",
              " 0.20716296209529914\n",
              " 0.03257690093383936\n",
              " 0.42764949249139195\n",
              " 0.20390181589644682\n",
              " 0.4457321199937807\n",
              " 0.07001452310614953\n",
              " 0.14867483985364663\n",
              " 0.06228794838250559\n",
              " 0.039331530468511344\n",
              " 0.009819317013688156\n",
              " ⋮\n",
              " 0.19936391011630752\n",
              " 0.2352806803410073\n",
              " 0.017653900935940103\n",
              " 0.11950602233817169\n",
              " 0.07516178653281841\n",
              " 0.08242546074754738\n",
              " 0.01220483665669958\n",
              " 0.10112568282314922\n",
              " 0.24945394718071745"
            ]
          },
          "metadata": {},
          "output_type": "display_data"
        }
      ],
      "source": [
        "x = minimizer(results)"
      ]
    },
    {
      "cell_type": "code",
      "execution_count": 10,
      "id": "825a3211",
      "metadata": {},
      "outputs": [
        {
          "data": {
            "text/plain": [
              "(0.19308690459714817, [0.9], [0.0])"
            ]
          },
          "metadata": {},
          "output_type": "display_data"
        }
      ],
      "source": [
        "lake_opt(x, y, q, b, t, Xcrit)"
      ]
    },
    {
      "cell_type": "code",
      "execution_count": 11,
      "id": "824d29bf",
      "metadata": {},
      "outputs": [
        {
          "data": {
            "image/png": "[encoded data removed]",
            "image/svg+xml": [
              "<?xml version=\"1.0\" encoding=\"utf-8\"?>\n",
              "<svg xmlns=\"http://www.w3.org/2000/svg\" xmlns:xlink=\"http://www.w3.org/1999/xlink\" width=\"600\" height=\"400\" viewBox=\"0 0 2400 1600\">\n",
              "<defs>\n",
              "  <clipPath id=\"clip870\">\n",
              "    <rect x=\"0\" y=\"0\" width=\"2400\" height=\"1600\"/>\n",
              "  </clipPath>\n",
              "</defs>\n",
              "<path clip-path=\"url(#clip870)\" d=\"M0 1600 L2400 1600 L2400 0 L0 0  Z\" fill=\"#ffffff\" fill-rule=\"evenodd\" fill-opacity=\"1\"/>\n",
              "<defs>\n",
              "  <clipPath id=\"clip871\">\n",
              "    <rect x=\"480\" y=\"0\" width=\"1681\" height=\"1600\"/>\n",
              "  </clipPath>\n",
              "</defs>\n",
              "<path clip-path=\"url(#clip870)\" d=\"M219.866 1423.18 L2352.76 1423.18 L2352.76 47.2441 L219.866 47.2441  Z\" fill=\"#ffffff\" fill-rule=\"evenodd\" fill-opacity=\"1\"/>\n",
              "<defs>\n",
              "  <clipPath id=\"clip872\">\n",
              "    <rect x=\"219\" y=\"47\" width=\"2134\" height=\"1377\"/>\n",
              "  </clipPath>\n",
              "</defs>\n",
              "<polyline clip-path=\"url(#clip872)\" style=\"stroke:#000000; stroke-linecap:round; stroke-linejoin:round; stroke-width:2; stroke-opacity:0.1; fill:none\" points=\"259.906,1423.18 259.906,47.2441 \"/>\n",
              "<polyline clip-path=\"url(#clip872)\" style=\"stroke:#000000; stroke-linecap:round; stroke-linejoin:round; stroke-width:2; stroke-opacity:0.1; fill:none\" points=\"768.027,1423.18 768.027,47.2441 \"/>\n",
              "<polyline clip-path=\"url(#clip872)\" style=\"stroke:#000000; stroke-linecap:round; stroke-linejoin:round; stroke-width:2; stroke-opacity:0.1; fill:none\" points=\"1276.15,1423.18 1276.15,47.2441 \"/>\n",
              "<polyline clip-path=\"url(#clip872)\" style=\"stroke:#000000; stroke-linecap:round; stroke-linejoin:round; stroke-width:2; stroke-opacity:0.1; fill:none\" points=\"1784.27,1423.18 1784.27,47.2441 \"/>\n",
              "<polyline clip-path=\"url(#clip872)\" style=\"stroke:#000000; stroke-linecap:round; stroke-linejoin:round; stroke-width:2; stroke-opacity:0.1; fill:none\" points=\"2292.39,1423.18 2292.39,47.2441 \"/>\n",
              "<polyline clip-path=\"url(#clip870)\" style=\"stroke:#000000; stroke-linecap:round; stroke-linejoin:round; stroke-width:4; stroke-opacity:1; fill:none\" points=\"219.866,1423.18 2352.76,1423.18 \"/>\n",
              "<polyline clip-path=\"url(#clip870)\" style=\"stroke:#000000; stroke-linecap:round; stroke-linejoin:round; stroke-width:4; stroke-opacity:1; fill:none\" points=\"259.906,1423.18 259.906,1404.28 \"/>\n",
              "<polyline clip-path=\"url(#clip870)\" style=\"stroke:#000000; stroke-linecap:round; stroke-linejoin:round; stroke-width:4; stroke-opacity:1; fill:none\" points=\"768.027,1423.18 768.027,1404.28 \"/>\n",
              "<polyline clip-path=\"url(#clip870)\" style=\"stroke:#000000; stroke-linecap:round; stroke-linejoin:round; stroke-width:4; stroke-opacity:1; fill:none\" points=\"1276.15,1423.18 1276.15,1404.28 \"/>\n",
              "<polyline clip-path=\"url(#clip870)\" style=\"stroke:#000000; stroke-linecap:round; stroke-linejoin:round; stroke-width:4; stroke-opacity:1; fill:none\" points=\"1784.27,1423.18 1784.27,1404.28 \"/>\n",
              "<polyline clip-path=\"url(#clip870)\" style=\"stroke:#000000; stroke-linecap:round; stroke-linejoin:round; stroke-width:4; stroke-opacity:1; fill:none\" points=\"2292.39,1423.18 2292.39,1404.28 \"/>\n",
              "<path clip-path=\"url(#clip870)\" d=\"M259.906 1454.1 Q256.295 1454.1 254.466 1457.66 Q252.661 1461.2 252.661 1468.33 Q252.661 1475.44 254.466 1479.01 Q256.295 1482.55 259.906 1482.55 Q263.54 1482.55 265.346 1479.01 Q267.175 1475.44 267.175 1468.33 Q267.175 1461.2 265.346 1457.66 Q263.54 1454.1 259.906 1454.1 M259.906 1450.39 Q265.716 1450.39 268.772 1455 Q271.851 1459.58 271.851 1468.33 Q271.851 1477.06 268.772 1481.67 Q265.716 1486.25 259.906 1486.25 Q254.096 1486.25 251.017 1481.67 Q247.962 1477.06 247.962 1468.33 Q247.962 1459.58 251.017 1455 Q254.096 1450.39 259.906 1450.39 Z\" fill=\"#000000\" fill-rule=\"nonzero\" fill-opacity=\"1\" /><path clip-path=\"url(#clip870)\" d=\"M747.298 1481.64 L763.618 1481.64 L763.618 1485.58 L741.673 1485.58 L741.673 1481.64 Q744.335 1478.89 748.919 1474.26 Q753.525 1469.61 754.706 1468.27 Q756.951 1465.74 757.831 1464.01 Q758.734 1462.25 758.734 1460.56 Q758.734 1457.8 756.789 1456.07 Q754.868 1454.33 751.766 1454.33 Q749.567 1454.33 747.113 1455.09 Q744.683 1455.86 741.905 1457.41 L741.905 1452.69 Q744.729 1451.55 747.183 1450.97 Q749.636 1450.39 751.673 1450.39 Q757.044 1450.39 760.238 1453.08 Q763.433 1455.77 763.433 1460.26 Q763.433 1462.39 762.622 1464.31 Q761.835 1466.2 759.729 1468.8 Q759.15 1469.47 756.048 1472.69 Q752.947 1475.88 747.298 1481.64 Z\" fill=\"#000000\" fill-rule=\"nonzero\" fill-opacity=\"1\" /><path clip-path=\"url(#clip870)\" d=\"M773.479 1451.02 L791.835 1451.02 L791.835 1454.96 L777.761 1454.96 L777.761 1463.43 Q778.78 1463.08 779.798 1462.92 Q780.817 1462.73 781.835 1462.73 Q787.622 1462.73 791.002 1465.9 Q794.381 1469.08 794.381 1474.49 Q794.381 1480.07 790.909 1483.17 Q787.437 1486.25 781.118 1486.25 Q778.942 1486.25 776.673 1485.88 Q774.428 1485.51 772.02 1484.77 L772.02 1480.07 Q774.104 1481.2 776.326 1481.76 Q778.548 1482.32 781.025 1482.32 Q785.03 1482.32 787.368 1480.21 Q789.706 1478.1 789.706 1474.49 Q789.706 1470.88 787.368 1468.77 Q785.03 1466.67 781.025 1466.67 Q779.15 1466.67 777.275 1467.08 Q775.423 1467.5 773.479 1468.38 L773.479 1451.02 Z\" fill=\"#000000\" fill-rule=\"nonzero\" fill-opacity=\"1\" /><path clip-path=\"url(#clip870)\" d=\"M1250.85 1451.02 L1269.2 1451.02 L1269.2 1454.96 L1255.13 1454.96 L1255.13 1463.43 Q1256.15 1463.08 1257.17 1462.92 Q1258.19 1462.73 1259.2 1462.73 Q1264.99 1462.73 1268.37 1465.9 Q1271.75 1469.08 1271.75 1474.49 Q1271.75 1480.07 1268.28 1483.17 Q1264.81 1486.25 1258.49 1486.25 Q1256.31 1486.25 1254.04 1485.88 Q1251.8 1485.51 1249.39 1484.77 L1249.39 1480.07 Q1251.47 1481.2 1253.7 1481.76 Q1255.92 1482.32 1258.39 1482.32 Q1262.4 1482.32 1264.74 1480.21 Q1267.07 1478.1 1267.07 1474.49 Q1267.07 1470.88 1264.74 1468.77 Q1262.4 1466.67 1258.39 1466.67 Q1256.52 1466.67 1254.64 1467.08 Q1252.79 1467.5 1250.85 1468.38 L1250.85 1451.02 Z\" fill=\"#000000\" fill-rule=\"nonzero\" fill-opacity=\"1\" /><path clip-path=\"url(#clip870)\" d=\"M1290.96 1454.1 Q1287.35 1454.1 1285.52 1457.66 Q1283.72 1461.2 1283.72 1468.33 Q1283.72 1475.44 1285.52 1479.01 Q1287.35 1482.55 1290.96 1482.55 Q1294.6 1482.55 1296.4 1479.01 Q1298.23 1475.44 1298.23 1468.33 Q1298.23 1461.2 1296.4 1457.66 Q1294.6 1454.1 1290.96 1454.1 M1290.96 1450.39 Q1296.77 1450.39 1299.83 1455 Q1302.91 1459.58 1302.91 1468.33 Q1302.91 1477.06 1299.83 1481.67 Q1296.77 1486.25 1290.96 1486.25 Q1285.15 1486.25 1282.07 1481.67 Q1279.02 1477.06 1279.02 1468.33 Q1279.02 1459.58 1282.07 1455 Q1285.15 1450.39 1290.96 1450.39 Z\" fill=\"#000000\" fill-rule=\"nonzero\" fill-opacity=\"1\" /><path clip-path=\"url(#clip870)\" d=\"M1758.12 1451.02 L1780.35 1451.02 L1780.35 1453.01 L1767.8 1485.58 L1762.92 1485.58 L1774.72 1454.96 L1758.12 1454.96 L1758.12 1451.02 Z\" fill=\"#000000\" fill-rule=\"nonzero\" fill-opacity=\"1\" /><path clip-path=\"url(#clip870)\" d=\"M1789.51 1451.02 L1807.87 1451.02 L1807.87 1454.96 L1793.8 1454.96 L1793.8 1463.43 Q1794.81 1463.08 1795.83 1462.92 Q1796.85 1462.73 1797.87 1462.73 Q1803.66 1462.73 1807.04 1465.9 Q1810.42 1469.08 1810.42 1474.49 Q1810.42 1480.07 1806.94 1483.17 Q1803.47 1486.25 1797.15 1486.25 Q1794.98 1486.25 1792.71 1485.88 Q1790.46 1485.51 1788.05 1484.77 L1788.05 1480.07 Q1790.14 1481.2 1792.36 1481.76 Q1794.58 1482.32 1797.06 1482.32 Q1801.06 1482.32 1803.4 1480.21 Q1805.74 1478.1 1805.74 1474.49 Q1805.74 1470.88 1803.4 1468.77 Q1801.06 1466.67 1797.06 1466.67 Q1795.18 1466.67 1793.31 1467.08 Q1791.46 1467.5 1789.51 1468.38 L1789.51 1451.02 Z\" fill=\"#000000\" fill-rule=\"nonzero\" fill-opacity=\"1\" /><path clip-path=\"url(#clip870)\" d=\"M2252 1481.64 L2259.64 1481.64 L2259.64 1455.28 L2251.33 1456.95 L2251.33 1452.69 L2259.59 1451.02 L2264.27 1451.02 L2264.27 1481.64 L2271.91 1481.64 L2271.91 1485.58 L2252 1485.58 L2252 1481.64 Z\" fill=\"#000000\" fill-rule=\"nonzero\" fill-opacity=\"1\" /><path clip-path=\"url(#clip870)\" d=\"M2291.35 1454.1 Q2287.74 1454.1 2285.91 1457.66 Q2284.1 1461.2 2284.1 1468.33 Q2284.1 1475.44 2285.91 1479.01 Q2287.74 1482.55 2291.35 1482.55 Q2294.98 1482.55 2296.79 1479.01 Q2298.62 1475.44 2298.62 1468.33 Q2298.62 1461.2 2296.79 1457.66 Q2294.98 1454.1 2291.35 1454.1 M2291.35 1450.39 Q2297.16 1450.39 2300.22 1455 Q2303.29 1459.58 2303.29 1468.33 Q2303.29 1477.06 2300.22 1481.67 Q2297.16 1486.25 2291.35 1486.25 Q2285.54 1486.25 2282.46 1481.67 Q2279.41 1477.06 2279.41 1468.33 Q2279.41 1459.58 2282.46 1455 Q2285.54 1450.39 2291.35 1450.39 Z\" fill=\"#000000\" fill-rule=\"nonzero\" fill-opacity=\"1\" /><path clip-path=\"url(#clip870)\" d=\"M2321.51 1454.1 Q2317.9 1454.1 2316.07 1457.66 Q2314.27 1461.2 2314.27 1468.33 Q2314.27 1475.44 2316.07 1479.01 Q2317.9 1482.55 2321.51 1482.55 Q2325.15 1482.55 2326.95 1479.01 Q2328.78 1475.44 2328.78 1468.33 Q2328.78 1461.2 2326.95 1457.66 Q2325.15 1454.1 2321.51 1454.1 M2321.51 1450.39 Q2327.32 1450.39 2330.38 1455 Q2333.46 1459.58 2333.46 1468.33 Q2333.46 1477.06 2330.38 1481.67 Q2327.32 1486.25 2321.51 1486.25 Q2315.7 1486.25 2312.62 1481.67 Q2309.57 1477.06 2309.57 1468.33 Q2309.57 1459.58 2312.62 1455 Q2315.7 1450.39 2321.51 1450.39 Z\" fill=\"#000000\" fill-rule=\"nonzero\" fill-opacity=\"1\" /><path clip-path=\"url(#clip870)\" d=\"M1201.85 1520.52 L1208.76 1520.52 L1221.94 1540.07 L1235.02 1520.52 L1241.93 1520.52 L1225.12 1545.41 L1225.12 1568.04 L1218.66 1568.04 L1218.66 1545.41 L1201.85 1520.52 Z\" fill=\"#000000\" fill-rule=\"nonzero\" fill-opacity=\"1\" /><path clip-path=\"url(#clip870)\" d=\"M1269.78 1548.76 L1269.78 1551.62 L1242.85 1551.62 Q1243.23 1557.67 1246.48 1560.85 Q1249.76 1564 1255.58 1564 Q1258.95 1564 1262.11 1563.17 Q1265.29 1562.35 1268.41 1560.69 L1268.41 1566.23 Q1265.26 1567.57 1261.95 1568.27 Q1258.64 1568.97 1255.23 1568.97 Q1246.7 1568.97 1241.7 1564 Q1236.74 1559.04 1236.74 1550.57 Q1236.74 1541.82 1241.45 1536.69 Q1246.19 1531.54 1254.21 1531.54 Q1261.41 1531.54 1265.57 1536.18 Q1269.78 1540.8 1269.78 1548.76 M1263.92 1547.04 Q1263.86 1542.23 1261.21 1539.37 Q1258.6 1536.5 1254.28 1536.5 Q1249.37 1536.5 1246.41 1539.27 Q1243.49 1542.04 1243.04 1547.07 L1263.92 1547.04 Z\" fill=\"#000000\" fill-rule=\"nonzero\" fill-opacity=\"1\" /><path clip-path=\"url(#clip870)\" d=\"M1295.59 1550.12 Q1288.49 1550.12 1285.75 1551.75 Q1283.02 1553.37 1283.02 1557.29 Q1283.02 1560.4 1285.05 1562.25 Q1287.12 1564.07 1290.66 1564.07 Q1295.53 1564.07 1298.45 1560.63 Q1301.41 1557.16 1301.41 1551.43 L1301.41 1550.12 L1295.59 1550.12 M1307.27 1547.71 L1307.27 1568.04 L1301.41 1568.04 L1301.41 1562.63 Q1299.41 1565.88 1296.42 1567.44 Q1293.42 1568.97 1289.1 1568.97 Q1283.62 1568.97 1280.38 1565.91 Q1277.16 1562.82 1277.16 1557.67 Q1277.16 1551.65 1281.17 1548.6 Q1285.21 1545.54 1293.2 1545.54 L1301.41 1545.54 L1301.41 1544.97 Q1301.41 1540.93 1298.74 1538.73 Q1296.1 1536.5 1291.29 1536.5 Q1288.24 1536.5 1285.34 1537.23 Q1282.44 1537.97 1279.77 1539.43 L1279.77 1534.02 Q1282.99 1532.78 1286.01 1532.17 Q1289.03 1531.54 1291.9 1531.54 Q1299.63 1531.54 1303.45 1535.55 Q1307.27 1539.56 1307.27 1547.71 Z\" fill=\"#000000\" fill-rule=\"nonzero\" fill-opacity=\"1\" /><path clip-path=\"url(#clip870)\" d=\"M1339.99 1537.87 Q1339 1537.3 1337.83 1537.04 Q1336.68 1536.76 1335.28 1536.76 Q1330.31 1536.76 1327.64 1540 Q1325 1543.22 1325 1549.27 L1325 1568.04 L1319.11 1568.04 L1319.11 1532.4 L1325 1532.4 L1325 1537.93 Q1326.84 1534.69 1329.8 1533.13 Q1332.76 1531.54 1337 1531.54 Q1337.6 1531.54 1338.33 1531.63 Q1339.07 1531.7 1339.96 1531.85 L1339.99 1537.87 Z\" fill=\"#000000\" fill-rule=\"nonzero\" fill-opacity=\"1\" /><path clip-path=\"url(#clip870)\" d=\"M1368.86 1533.45 L1368.86 1538.98 Q1366.38 1537.71 1363.7 1537.07 Q1361.03 1536.44 1358.16 1536.44 Q1353.8 1536.44 1351.61 1537.77 Q1349.44 1539.11 1349.44 1541.79 Q1349.44 1543.82 1351 1545 Q1352.56 1546.15 1357.27 1547.2 L1359.28 1547.64 Q1365.52 1548.98 1368.13 1551.43 Q1370.77 1553.85 1370.77 1558.21 Q1370.77 1563.17 1366.82 1566.07 Q1362.91 1568.97 1356.03 1568.97 Q1353.17 1568.97 1350.05 1568.39 Q1346.96 1567.85 1343.52 1566.74 L1343.52 1560.69 Q1346.77 1562.38 1349.92 1563.24 Q1353.07 1564.07 1356.16 1564.07 Q1360.3 1564.07 1362.52 1562.66 Q1364.75 1561.23 1364.75 1558.65 Q1364.75 1556.27 1363.13 1554.99 Q1361.54 1553.72 1356.1 1552.54 L1354.06 1552.07 Q1348.62 1550.92 1346.2 1548.56 Q1343.78 1546.18 1343.78 1542.04 Q1343.78 1537.01 1347.34 1534.27 Q1350.91 1531.54 1357.46 1531.54 Q1360.71 1531.54 1363.57 1532.01 Q1366.44 1532.49 1368.86 1533.45 Z\" fill=\"#000000\" fill-rule=\"nonzero\" fill-opacity=\"1\" /><polyline clip-path=\"url(#clip872)\" style=\"stroke:#000000; stroke-linecap:round; stroke-linejoin:round; stroke-width:2; stroke-opacity:0.1; fill:none\" points=\"219.866,1384.69 2352.76,1384.69 \"/>\n",
              "<polyline clip-path=\"url(#clip872)\" style=\"stroke:#000000; stroke-linecap:round; stroke-linejoin:round; stroke-width:2; stroke-opacity:0.1; fill:none\" points=\"219.866,1116.09 2352.76,1116.09 \"/>\n",
              "<polyline clip-path=\"url(#clip872)\" style=\"stroke:#000000; stroke-linecap:round; stroke-linejoin:round; stroke-width:2; stroke-opacity:0.1; fill:none\" points=\"219.866,847.49 2352.76,847.49 \"/>\n",
              "<polyline clip-path=\"url(#clip872)\" style=\"stroke:#000000; stroke-linecap:round; stroke-linejoin:round; stroke-width:2; stroke-opacity:0.1; fill:none\" points=\"219.866,578.89 2352.76,578.89 \"/>\n",
              "<polyline clip-path=\"url(#clip872)\" style=\"stroke:#000000; stroke-linecap:round; stroke-linejoin:round; stroke-width:2; stroke-opacity:0.1; fill:none\" points=\"219.866,310.29 2352.76,310.29 \"/>\n",
              "<polyline clip-path=\"url(#clip870)\" style=\"stroke:#000000; stroke-linecap:round; stroke-linejoin:round; stroke-width:4; stroke-opacity:1; fill:none\" points=\"219.866,1423.18 219.866,47.2441 \"/>\n",
              "<polyline clip-path=\"url(#clip870)\" style=\"stroke:#000000; stroke-linecap:round; stroke-linejoin:round; stroke-width:4; stroke-opacity:1; fill:none\" points=\"219.866,1384.69 238.764,1384.69 \"/>\n",
              "<polyline clip-path=\"url(#clip870)\" style=\"stroke:#000000; stroke-linecap:round; stroke-linejoin:round; stroke-width:4; stroke-opacity:1; fill:none\" points=\"219.866,1116.09 238.764,1116.09 \"/>\n",
              "<polyline clip-path=\"url(#clip870)\" style=\"stroke:#000000; stroke-linecap:round; stroke-linejoin:round; stroke-width:4; stroke-opacity:1; fill:none\" points=\"219.866,847.49 238.764,847.49 \"/>\n",
              "<polyline clip-path=\"url(#clip870)\" style=\"stroke:#000000; stroke-linecap:round; stroke-linejoin:round; stroke-width:4; stroke-opacity:1; fill:none\" points=\"219.866,578.89 238.764,578.89 \"/>\n",
              "<polyline clip-path=\"url(#clip870)\" style=\"stroke:#000000; stroke-linecap:round; stroke-linejoin:round; stroke-width:4; stroke-opacity:1; fill:none\" points=\"219.866,310.29 238.764,310.29 \"/>\n",
              "<path clip-path=\"url(#clip870)\" d=\"M126.691 1370.49 Q123.08 1370.49 121.251 1374.05 Q119.445 1377.59 119.445 1384.72 Q119.445 1391.83 121.251 1395.4 Q123.08 1398.94 126.691 1398.94 Q130.325 1398.94 132.13 1395.4 Q133.959 1391.83 133.959 1384.72 Q133.959 1377.59 132.13 1374.05 Q130.325 1370.49 126.691 1370.49 M126.691 1366.78 Q132.501 1366.78 135.556 1371.39 Q138.635 1375.97 138.635 1384.72 Q138.635 1393.45 135.556 1398.06 Q132.501 1402.64 126.691 1402.64 Q120.88 1402.64 117.802 1398.06 Q114.746 1393.45 114.746 1384.72 Q114.746 1375.97 117.802 1371.39 Q120.88 1366.78 126.691 1366.78 Z\" fill=\"#000000\" fill-rule=\"nonzero\" fill-opacity=\"1\" /><path clip-path=\"url(#clip870)\" d=\"M146.853 1396.09 L151.737 1396.09 L151.737 1401.97 L146.853 1401.97 L146.853 1396.09 Z\" fill=\"#000000\" fill-rule=\"nonzero\" fill-opacity=\"1\" /><path clip-path=\"url(#clip870)\" d=\"M171.922 1370.49 Q168.311 1370.49 166.482 1374.05 Q164.677 1377.59 164.677 1384.72 Q164.677 1391.83 166.482 1395.4 Q168.311 1398.94 171.922 1398.94 Q175.556 1398.94 177.362 1395.4 Q179.19 1391.83 179.19 1384.72 Q179.19 1377.59 177.362 1374.05 Q175.556 1370.49 171.922 1370.49 M171.922 1366.78 Q177.732 1366.78 180.788 1371.39 Q183.866 1375.97 183.866 1384.72 Q183.866 1393.45 180.788 1398.06 Q177.732 1402.64 171.922 1402.64 Q166.112 1402.64 163.033 1398.06 Q159.978 1393.45 159.978 1384.72 Q159.978 1375.97 163.033 1371.39 Q166.112 1366.78 171.922 1366.78 Z\" fill=\"#000000\" fill-rule=\"nonzero\" fill-opacity=\"1\" /><path clip-path=\"url(#clip870)\" d=\"M127.917 1101.89 Q124.306 1101.89 122.478 1105.45 Q120.672 1108.99 120.672 1116.12 Q120.672 1123.23 122.478 1126.8 Q124.306 1130.34 127.917 1130.34 Q131.552 1130.34 133.357 1126.8 Q135.186 1123.23 135.186 1116.12 Q135.186 1108.99 133.357 1105.45 Q131.552 1101.89 127.917 1101.89 M127.917 1098.18 Q133.728 1098.18 136.783 1102.79 Q139.862 1107.37 139.862 1116.12 Q139.862 1124.85 136.783 1129.46 Q133.728 1134.04 127.917 1134.04 Q122.107 1134.04 119.029 1129.46 Q115.973 1124.85 115.973 1116.12 Q115.973 1107.37 119.029 1102.79 Q122.107 1098.18 127.917 1098.18 Z\" fill=\"#000000\" fill-rule=\"nonzero\" fill-opacity=\"1\" /><path clip-path=\"url(#clip870)\" d=\"M148.079 1127.49 L152.964 1127.49 L152.964 1133.37 L148.079 1133.37 L148.079 1127.49 Z\" fill=\"#000000\" fill-rule=\"nonzero\" fill-opacity=\"1\" /><path clip-path=\"url(#clip870)\" d=\"M163.959 1129.43 L171.598 1129.43 L171.598 1103.07 L163.288 1104.74 L163.288 1100.48 L171.552 1098.81 L176.227 1098.81 L176.227 1129.43 L183.866 1129.43 L183.866 1133.37 L163.959 1133.37 L163.959 1129.43 Z\" fill=\"#000000\" fill-rule=\"nonzero\" fill-opacity=\"1\" /><path clip-path=\"url(#clip870)\" d=\"M128.288 833.288 Q124.677 833.288 122.848 836.853 Q121.043 840.395 121.043 847.524 Q121.043 854.631 122.848 858.196 Q124.677 861.737 128.288 861.737 Q131.922 861.737 133.728 858.196 Q135.556 854.631 135.556 847.524 Q135.556 840.395 133.728 836.853 Q131.922 833.288 128.288 833.288 M128.288 829.585 Q134.098 829.585 137.154 834.191 Q140.232 838.774 140.232 847.524 Q140.232 856.251 137.154 860.858 Q134.098 865.441 128.288 865.441 Q122.478 865.441 119.399 860.858 Q116.343 856.251 116.343 847.524 Q116.343 838.774 119.399 834.191 Q122.478 829.585 128.288 829.585 Z\" fill=\"#000000\" fill-rule=\"nonzero\" fill-opacity=\"1\" /><path clip-path=\"url(#clip870)\" d=\"M148.45 858.89 L153.334 858.89 L153.334 864.77 L148.45 864.77 L148.45 858.89 Z\" fill=\"#000000\" fill-rule=\"nonzero\" fill-opacity=\"1\" /><path clip-path=\"url(#clip870)\" d=\"M167.547 860.834 L183.866 860.834 L183.866 864.77 L161.922 864.77 L161.922 860.834 Q164.584 858.08 169.167 853.45 Q173.774 848.797 174.954 847.455 Q177.2 844.932 178.079 843.196 Q178.982 841.436 178.982 839.747 Q178.982 836.992 177.038 835.256 Q175.116 833.52 172.014 833.52 Q169.815 833.52 167.362 834.284 Q164.931 835.048 162.153 836.598 L162.153 831.876 Q164.977 830.742 167.431 830.163 Q169.885 829.585 171.922 829.585 Q177.292 829.585 180.487 832.27 Q183.681 834.955 183.681 839.446 Q183.681 841.575 182.871 843.497 Q182.084 845.395 179.977 847.987 Q179.399 848.659 176.297 851.876 Q173.195 855.071 167.547 860.834 Z\" fill=\"#000000\" fill-rule=\"nonzero\" fill-opacity=\"1\" /><path clip-path=\"url(#clip870)\" d=\"M127.339 564.688 Q123.728 564.688 121.899 568.253 Q120.093 571.795 120.093 578.924 Q120.093 586.031 121.899 589.596 Q123.728 593.137 127.339 593.137 Q130.973 593.137 132.779 589.596 Q134.607 586.031 134.607 578.924 Q134.607 571.795 132.779 568.253 Q130.973 564.688 127.339 564.688 M127.339 560.985 Q133.149 560.985 136.204 565.591 Q139.283 570.174 139.283 578.924 Q139.283 587.651 136.204 592.258 Q133.149 596.841 127.339 596.841 Q121.529 596.841 118.45 592.258 Q115.394 587.651 115.394 578.924 Q115.394 570.174 118.45 565.591 Q121.529 560.985 127.339 560.985 Z\" fill=\"#000000\" fill-rule=\"nonzero\" fill-opacity=\"1\" /><path clip-path=\"url(#clip870)\" d=\"M147.501 590.29 L152.385 590.29 L152.385 596.17 L147.501 596.17 L147.501 590.29 Z\" fill=\"#000000\" fill-rule=\"nonzero\" fill-opacity=\"1\" /><path clip-path=\"url(#clip870)\" d=\"M176.737 577.535 Q180.093 578.253 181.968 580.522 Q183.866 582.79 183.866 586.123 Q183.866 591.239 180.348 594.04 Q176.829 596.841 170.348 596.841 Q168.172 596.841 165.857 596.401 Q163.565 595.984 161.112 595.128 L161.112 590.614 Q163.056 591.748 165.371 592.327 Q167.686 592.906 170.209 592.906 Q174.607 592.906 176.899 591.17 Q179.214 589.433 179.214 586.123 Q179.214 583.068 177.061 581.355 Q174.931 579.619 171.112 579.619 L167.084 579.619 L167.084 575.776 L171.297 575.776 Q174.746 575.776 176.575 574.41 Q178.403 573.022 178.403 570.429 Q178.403 567.767 176.505 566.355 Q174.63 564.92 171.112 564.92 Q169.19 564.92 166.991 565.336 Q164.792 565.753 162.153 566.633 L162.153 562.466 Q164.815 561.725 167.13 561.355 Q169.468 560.985 171.528 560.985 Q176.852 560.985 179.954 563.415 Q183.056 565.823 183.056 569.943 Q183.056 572.813 181.413 574.804 Q179.769 576.772 176.737 577.535 Z\" fill=\"#000000\" fill-rule=\"nonzero\" fill-opacity=\"1\" /><path clip-path=\"url(#clip870)\" d=\"M126.205 296.088 Q122.593 296.088 120.765 299.653 Q118.959 303.195 118.959 310.324 Q118.959 317.431 120.765 320.996 Q122.593 324.537 126.205 324.537 Q129.839 324.537 131.644 320.996 Q133.473 317.431 133.473 310.324 Q133.473 303.195 131.644 299.653 Q129.839 296.088 126.205 296.088 M126.205 292.385 Q132.015 292.385 135.07 296.991 Q138.149 301.574 138.149 310.324 Q138.149 319.051 135.07 323.658 Q132.015 328.241 126.205 328.241 Q120.394 328.241 117.316 323.658 Q114.26 319.051 114.26 310.324 Q114.26 301.574 117.316 296.991 Q120.394 292.385 126.205 292.385 Z\" fill=\"#000000\" fill-rule=\"nonzero\" fill-opacity=\"1\" /><path clip-path=\"url(#clip870)\" d=\"M146.366 321.69 L151.251 321.69 L151.251 327.57 L146.366 327.57 L146.366 321.69 Z\" fill=\"#000000\" fill-rule=\"nonzero\" fill-opacity=\"1\" /><path clip-path=\"url(#clip870)\" d=\"M174.283 297.084 L162.477 315.533 L174.283 315.533 L174.283 297.084 M173.056 293.01 L178.936 293.01 L178.936 315.533 L183.866 315.533 L183.866 319.421 L178.936 319.421 L178.936 327.57 L174.283 327.57 L174.283 319.421 L158.681 319.421 L158.681 314.908 L173.056 293.01 Z\" fill=\"#000000\" fill-rule=\"nonzero\" fill-opacity=\"1\" /><path clip-path=\"url(#clip870)\" d=\"M21.7677 1153.3 L39.6235 1153.3 L39.6235 1145.21 Q39.6235 1140.72 37.3 1138.27 Q34.9765 1135.82 30.6797 1135.82 Q26.4147 1135.82 24.0912 1138.27 Q21.7677 1140.72 21.7677 1145.21 L21.7677 1153.3 M16.4842 1159.73 L16.4842 1145.21 Q16.4842 1137.22 20.1126 1133.15 Q23.7092 1129.04 30.6797 1129.04 Q37.7138 1129.04 41.3104 1133.15 Q44.907 1137.22 44.907 1145.21 L44.907 1153.3 L64.0042 1153.3 L64.0042 1159.73 L16.4842 1159.73 Z\" fill=\"#000000\" fill-rule=\"nonzero\" fill-opacity=\"1\" /><path clip-path=\"url(#clip870)\" d=\"M42.4881 1091.04 L64.0042 1091.04 L64.0042 1096.9 L42.679 1096.9 Q37.6183 1096.9 35.1038 1098.87 Q32.5894 1100.84 32.5894 1104.79 Q32.5894 1109.53 35.6131 1112.27 Q38.6368 1115.01 43.8567 1115.01 L64.0042 1115.01 L64.0042 1120.89 L14.479 1120.89 L14.479 1115.01 L33.8944 1115.01 Q30.6797 1112.91 29.0883 1110.07 Q27.4968 1107.21 27.4968 1103.48 Q27.4968 1097.34 31.3163 1094.19 Q35.1038 1091.04 42.4881 1091.04 Z\" fill=\"#000000\" fill-rule=\"nonzero\" fill-opacity=\"1\" /><path clip-path=\"url(#clip870)\" d=\"M32.4621 1065.54 Q32.4621 1070.26 36.1542 1072.99 Q39.8145 1075.73 46.212 1075.73 Q52.6095 1075.73 56.3017 1073.02 Q59.9619 1070.29 59.9619 1065.54 Q59.9619 1060.87 56.2698 1058.13 Q52.5777 1055.39 46.212 1055.39 Q39.8781 1055.39 36.186 1058.13 Q32.4621 1060.87 32.4621 1065.54 M27.4968 1065.54 Q27.4968 1057.91 32.4621 1053.55 Q37.4273 1049.18 46.212 1049.18 Q54.9649 1049.18 59.9619 1053.55 Q64.9272 1057.91 64.9272 1065.54 Q64.9272 1073.22 59.9619 1077.58 Q54.9649 1081.9 46.212 1081.9 Q37.4273 1081.9 32.4621 1077.58 Q27.4968 1073.22 27.4968 1065.54 Z\" fill=\"#000000\" fill-rule=\"nonzero\" fill-opacity=\"1\" /><path clip-path=\"url(#clip870)\" d=\"M29.4065 1016.75 L34.9447 1016.75 Q33.6716 1019.23 33.035 1021.91 Q32.3984 1024.58 32.3984 1027.45 Q32.3984 1031.81 33.7352 1034 Q35.072 1036.17 37.7456 1036.17 Q39.7826 1036.17 40.9603 1034.61 Q42.1061 1033.05 43.1565 1028.34 L43.6021 1026.33 Q44.9389 1020.09 47.3897 1017.48 Q49.8086 1014.84 54.1691 1014.84 Q59.1344 1014.84 62.0308 1018.79 Q64.9272 1022.7 64.9272 1029.58 Q64.9272 1032.44 64.3543 1035.56 Q63.8132 1038.65 62.6992 1042.09 L56.6518 1042.09 Q58.3387 1038.84 59.198 1035.69 Q60.0256 1032.54 60.0256 1029.45 Q60.0256 1025.31 58.6251 1023.09 Q57.1929 1020.86 54.6147 1020.86 Q52.2276 1020.86 50.9545 1022.48 Q49.6813 1024.07 48.5037 1029.51 L48.0262 1031.55 Q46.8804 1036.99 44.5251 1039.41 Q42.138 1041.83 38.0002 1041.83 Q32.9713 1041.83 30.2341 1038.27 Q27.4968 1034.7 27.4968 1028.15 Q27.4968 1024.9 27.9743 1022.03 Q28.4517 1019.17 29.4065 1016.75 Z\" fill=\"#000000\" fill-rule=\"nonzero\" fill-opacity=\"1\" /><path clip-path=\"url(#clip870)\" d=\"M58.657 999.85 L77.5631 999.85 L77.5631 1005.74 L28.3562 1005.74 L28.3562 999.85 L33.7671 999.85 Q30.5842 998.004 29.0564 995.203 Q27.4968 992.371 27.4968 988.456 Q27.4968 981.963 32.6531 977.92 Q37.8093 973.846 46.212 973.846 Q54.6147 973.846 59.771 977.92 Q64.9272 981.963 64.9272 988.456 Q64.9272 992.371 63.3994 995.203 Q61.8398 998.004 58.657 999.85 M46.212 979.926 Q39.7508 979.926 36.0905 982.599 Q32.3984 985.241 32.3984 989.888 Q32.3984 994.535 36.0905 997.209 Q39.7508 999.85 46.212 999.85 Q52.6732 999.85 56.3653 997.209 Q60.0256 994.535 60.0256 989.888 Q60.0256 985.241 56.3653 982.599 Q52.6732 979.926 46.212 979.926 Z\" fill=\"#000000\" fill-rule=\"nonzero\" fill-opacity=\"1\" /><path clip-path=\"url(#clip870)\" d=\"M42.4881 934.506 L64.0042 934.506 L64.0042 940.363 L42.679 940.363 Q37.6183 940.363 35.1038 942.336 Q32.5894 944.31 32.5894 948.256 Q32.5894 952.999 35.6131 955.736 Q38.6368 958.473 43.8567 958.473 L64.0042 958.473 L64.0042 964.361 L14.479 964.361 L14.479 958.473 L33.8944 958.473 Q30.6797 956.373 29.0883 953.54 Q27.4968 950.675 27.4968 946.951 Q27.4968 940.808 31.3163 937.657 Q35.1038 934.506 42.4881 934.506 Z\" fill=\"#000000\" fill-rule=\"nonzero\" fill-opacity=\"1\" /><path clip-path=\"url(#clip870)\" d=\"M32.4621 909.012 Q32.4621 913.722 36.1542 916.46 Q39.8145 919.197 46.212 919.197 Q52.6095 919.197 56.3017 916.491 Q59.9619 913.754 59.9619 909.012 Q59.9619 904.333 56.2698 901.596 Q52.5777 898.858 46.212 898.858 Q39.8781 898.858 36.186 901.596 Q32.4621 904.333 32.4621 909.012 M27.4968 909.012 Q27.4968 901.373 32.4621 897.012 Q37.4273 892.652 46.212 892.652 Q54.9649 892.652 59.9619 897.012 Q64.9272 901.373 64.9272 909.012 Q64.9272 916.682 59.9619 921.043 Q54.9649 925.372 46.212 925.372 Q37.4273 925.372 32.4621 921.043 Q27.4968 916.682 27.4968 909.012 Z\" fill=\"#000000\" fill-rule=\"nonzero\" fill-opacity=\"1\" /><path clip-path=\"url(#clip870)\" d=\"M33.8307 862.287 Q33.2578 863.274 33.0032 864.452 Q32.7167 865.598 32.7167 866.998 Q32.7167 871.963 35.9632 874.637 Q39.1779 877.279 45.2253 877.279 L64.0042 877.279 L64.0042 883.167 L28.3562 883.167 L28.3562 877.279 L33.8944 877.279 Q30.6479 875.433 29.0883 872.473 Q27.4968 869.512 27.4968 865.279 Q27.4968 864.675 27.5923 863.942 Q27.656 863.21 27.8151 862.319 L33.8307 862.287 Z\" fill=\"#000000\" fill-rule=\"nonzero\" fill-opacity=\"1\" /><path clip-path=\"url(#clip870)\" d=\"M49.9359 856.749 L28.3562 856.749 L28.3562 850.893 L49.7131 850.893 Q54.7739 850.893 57.3202 848.919 Q59.8346 846.946 59.8346 842.999 Q59.8346 838.257 56.8109 835.52 Q53.7872 832.751 48.5673 832.751 L28.3562 832.751 L28.3562 826.894 L64.0042 826.894 L64.0042 832.751 L58.5296 832.751 Q61.7762 834.883 63.3676 837.716 Q64.9272 840.517 64.9272 844.241 Q64.9272 850.384 61.1078 853.566 Q57.2883 856.749 49.9359 856.749 M27.4968 842.013 L27.4968 842.013 Z\" fill=\"#000000\" fill-rule=\"nonzero\" fill-opacity=\"1\" /><path clip-path=\"url(#clip870)\" d=\"M29.4065 792.105 L34.9447 792.105 Q33.6716 794.588 33.035 797.262 Q32.3984 799.935 32.3984 802.8 Q32.3984 807.16 33.7352 809.357 Q35.072 811.521 37.7456 811.521 Q39.7826 811.521 40.9603 809.961 Q42.1061 808.402 43.1565 803.691 L43.6021 801.686 Q44.9389 795.447 47.3897 792.838 Q49.8086 790.196 54.1691 790.196 Q59.1344 790.196 62.0308 794.142 Q64.9272 798.057 64.9272 804.932 Q64.9272 807.797 64.3543 810.916 Q63.8132 814.004 62.6992 817.441 L56.6518 817.441 Q58.3387 814.194 59.198 811.043 Q60.0256 807.892 60.0256 804.805 Q60.0256 800.667 58.6251 798.439 Q57.1929 796.211 54.6147 796.211 Q52.2276 796.211 50.9545 797.835 Q49.6813 799.426 48.5037 804.869 L48.0262 806.906 Q46.8804 812.348 44.5251 814.767 Q42.138 817.186 38.0002 817.186 Q32.9713 817.186 30.2341 813.622 Q27.4968 810.057 27.4968 803.5 Q27.4968 800.254 27.9743 797.389 Q28.4517 794.524 29.4065 792.105 Z\" fill=\"#000000\" fill-rule=\"nonzero\" fill-opacity=\"1\" /><path clip-path=\"url(#clip870)\" d=\"M20.1444 724.311 L26.9239 724.311 Q23.9002 727.557 22.4043 731.249 Q20.9083 734.91 20.9083 739.047 Q20.9083 747.195 25.9054 751.524 Q30.8707 755.853 40.2919 755.853 Q49.6813 755.853 54.6784 751.524 Q59.6436 747.195 59.6436 739.047 Q59.6436 734.91 58.1477 731.249 Q56.6518 727.557 53.6281 724.311 L60.3439 724.311 Q62.6355 727.685 63.7814 731.472 Q64.9272 735.228 64.9272 739.429 Q64.9272 750.219 58.3387 756.426 Q51.7183 762.632 40.2919 762.632 Q28.8336 762.632 22.2451 756.426 Q15.6248 750.219 15.6248 739.429 Q15.6248 735.164 16.7706 731.408 Q17.8846 727.621 20.1444 724.311 Z\" fill=\"#000000\" fill-rule=\"nonzero\" fill-opacity=\"1\" /><path clip-path=\"url(#clip870)\" d=\"M32.4621 700.821 Q32.4621 705.532 36.1542 708.269 Q39.8145 711.006 46.212 711.006 Q52.6095 711.006 56.3017 708.301 Q59.9619 705.564 59.9619 700.821 Q59.9619 696.142 56.2698 693.405 Q52.5777 690.668 46.212 690.668 Q39.8781 690.668 36.186 693.405 Q32.4621 696.142 32.4621 700.821 M27.4968 700.821 Q27.4968 693.182 32.4621 688.822 Q37.4273 684.461 46.212 684.461 Q54.9649 684.461 59.9619 688.822 Q64.9272 693.182 64.9272 700.821 Q64.9272 708.492 59.9619 712.852 Q54.9649 717.181 46.212 717.181 Q37.4273 717.181 32.4621 712.852 Q27.4968 708.492 27.4968 700.821 Z\" fill=\"#000000\" fill-rule=\"nonzero\" fill-opacity=\"1\" /><path clip-path=\"url(#clip870)\" d=\"M42.4881 645.121 L64.0042 645.121 L64.0042 650.978 L42.679 650.978 Q37.6183 650.978 35.1038 652.951 Q32.5894 654.924 32.5894 658.871 Q32.5894 663.614 35.6131 666.351 Q38.6368 669.088 43.8567 669.088 L64.0042 669.088 L64.0042 674.976 L28.3562 674.976 L28.3562 669.088 L33.8944 669.088 Q30.6797 666.988 29.0883 664.155 Q27.4968 661.29 27.4968 657.566 Q27.4968 651.423 31.3163 648.272 Q35.1038 645.121 42.4881 645.121 Z\" fill=\"#000000\" fill-rule=\"nonzero\" fill-opacity=\"1\" /><path clip-path=\"url(#clip870)\" d=\"M29.7248 607.786 L35.1993 607.786 Q33.8307 610.269 33.1623 612.784 Q32.4621 615.266 32.4621 617.812 Q32.4621 623.51 36.0905 626.661 Q39.6872 629.812 46.212 629.812 Q52.7369 629.812 56.3653 626.661 Q59.9619 623.51 59.9619 617.812 Q59.9619 615.266 59.2935 612.784 Q58.5933 610.269 57.2247 607.786 L62.6355 607.786 Q63.7814 610.237 64.3543 612.879 Q64.9272 615.489 64.9272 618.449 Q64.9272 626.502 59.8664 631.244 Q54.8057 635.987 46.212 635.987 Q37.491 635.987 32.4939 631.212 Q27.4968 626.406 27.4968 618.067 Q27.4968 615.362 28.0697 612.784 Q28.6108 610.205 29.7248 607.786 Z\" fill=\"#000000\" fill-rule=\"nonzero\" fill-opacity=\"1\" /><path clip-path=\"url(#clip870)\" d=\"M44.7161 567.11 L47.5806 567.11 L47.5806 594.037 Q53.6281 593.655 56.8109 590.408 Q59.9619 587.13 59.9619 581.305 Q59.9619 577.931 59.1344 574.78 Q58.3069 571.597 56.6518 568.478 L62.1899 568.478 Q63.5267 571.629 64.227 574.939 Q64.9272 578.25 64.9272 581.655 Q64.9272 590.185 59.9619 595.182 Q54.9967 600.148 46.5303 600.148 Q37.7774 600.148 32.6531 595.437 Q27.4968 590.695 27.4968 582.674 Q27.4968 575.48 32.1438 571.311 Q36.7589 567.11 44.7161 567.11 M42.9973 572.966 Q38.1912 573.03 35.3266 575.671 Q32.4621 578.281 32.4621 582.61 Q32.4621 587.512 35.2312 590.472 Q38.0002 593.4 43.0292 593.846 L42.9973 572.966 Z\" fill=\"#000000\" fill-rule=\"nonzero\" fill-opacity=\"1\" /><path clip-path=\"url(#clip870)\" d=\"M42.4881 527.865 L64.0042 527.865 L64.0042 533.721 L42.679 533.721 Q37.6183 533.721 35.1038 535.695 Q32.5894 537.668 32.5894 541.615 Q32.5894 546.357 35.6131 549.095 Q38.6368 551.832 43.8567 551.832 L64.0042 551.832 L64.0042 557.72 L28.3562 557.72 L28.3562 551.832 L33.8944 551.832 Q30.6797 549.731 29.0883 546.898 Q27.4968 544.034 27.4968 540.31 Q27.4968 534.167 31.3163 531.016 Q35.1038 527.865 42.4881 527.865 Z\" fill=\"#000000\" fill-rule=\"nonzero\" fill-opacity=\"1\" /><path clip-path=\"url(#clip870)\" d=\"M18.2347 510.391 L28.3562 510.391 L28.3562 498.328 L32.9077 498.328 L32.9077 510.391 L52.2594 510.391 Q56.6199 510.391 57.8613 509.213 Q59.1026 508.004 59.1026 504.344 L59.1026 498.328 L64.0042 498.328 L64.0042 504.344 Q64.0042 511.123 61.4897 513.701 Q58.9434 516.279 52.2594 516.279 L32.9077 516.279 L32.9077 520.576 L28.3562 520.576 L28.3562 516.279 L18.2347 516.279 L18.2347 510.391 Z\" fill=\"#000000\" fill-rule=\"nonzero\" fill-opacity=\"1\" /><path clip-path=\"url(#clip870)\" d=\"M33.8307 469.969 Q33.2578 470.956 33.0032 472.133 Q32.7167 473.279 32.7167 474.68 Q32.7167 479.645 35.9632 482.318 Q39.1779 484.96 45.2253 484.96 L64.0042 484.96 L64.0042 490.848 L28.3562 490.848 L28.3562 484.96 L33.8944 484.96 Q30.6479 483.114 29.0883 480.154 Q27.4968 477.194 27.4968 472.961 Q27.4968 472.356 27.5923 471.624 Q27.656 470.892 27.8151 470.001 L33.8307 469.969 Z\" fill=\"#000000\" fill-rule=\"nonzero\" fill-opacity=\"1\" /><path clip-path=\"url(#clip870)\" d=\"M46.0847 447.625 Q46.0847 454.723 47.7079 457.46 Q49.3312 460.198 53.2461 460.198 Q56.3653 460.198 58.2114 458.161 Q60.0256 456.092 60.0256 452.559 Q60.0256 447.689 56.5881 444.761 Q53.1188 441.801 47.3897 441.801 L46.0847 441.801 L46.0847 447.625 M43.6657 435.944 L64.0042 435.944 L64.0042 441.801 L58.5933 441.801 Q61.8398 443.806 63.3994 446.798 Q64.9272 449.79 64.9272 454.118 Q64.9272 459.593 61.8716 462.839 Q58.7843 466.054 53.6281 466.054 Q47.6125 466.054 44.5569 462.044 Q41.5014 458.001 41.5014 450.012 L41.5014 441.801 L40.9285 441.801 Q36.8862 441.801 34.6901 444.474 Q32.4621 447.116 32.4621 451.922 Q32.4621 454.978 33.1941 457.874 Q33.9262 460.77 35.3903 463.444 L29.9795 463.444 Q28.7381 460.229 28.1334 457.206 Q27.4968 454.182 27.4968 451.317 Q27.4968 443.583 31.5072 439.764 Q35.5176 435.944 43.6657 435.944 Z\" fill=\"#000000\" fill-rule=\"nonzero\" fill-opacity=\"1\" /><path clip-path=\"url(#clip870)\" d=\"M18.2347 418.088 L28.3562 418.088 L28.3562 406.025 L32.9077 406.025 L32.9077 418.088 L52.2594 418.088 Q56.6199 418.088 57.8613 416.911 Q59.1026 415.701 59.1026 412.041 L59.1026 406.025 L64.0042 406.025 L64.0042 412.041 Q64.0042 418.82 61.4897 421.399 Q58.9434 423.977 52.2594 423.977 L32.9077 423.977 L32.9077 428.274 L28.3562 428.274 L28.3562 423.977 L18.2347 423.977 L18.2347 418.088 Z\" fill=\"#000000\" fill-rule=\"nonzero\" fill-opacity=\"1\" /><path clip-path=\"url(#clip870)\" d=\"M28.3562 398.323 L28.3562 392.466 L64.0042 392.466 L64.0042 398.323 L28.3562 398.323 M14.479 398.323 L14.479 392.466 L21.895 392.466 L21.895 398.323 L14.479 398.323 Z\" fill=\"#000000\" fill-rule=\"nonzero\" fill-opacity=\"1\" /><path clip-path=\"url(#clip870)\" d=\"M32.4621 366.399 Q32.4621 371.109 36.1542 373.847 Q39.8145 376.584 46.212 376.584 Q52.6095 376.584 56.3017 373.879 Q59.9619 371.141 59.9619 366.399 Q59.9619 361.72 56.2698 358.983 Q52.5777 356.246 46.212 356.246 Q39.8781 356.246 36.186 358.983 Q32.4621 361.72 32.4621 366.399 M27.4968 366.399 Q27.4968 358.76 32.4621 354.399 Q37.4273 350.039 46.212 350.039 Q54.9649 350.039 59.9619 354.399 Q64.9272 358.76 64.9272 366.399 Q64.9272 374.07 59.9619 378.43 Q54.9649 382.759 46.212 382.759 Q37.4273 382.759 32.4621 378.43 Q27.4968 374.07 27.4968 366.399 Z\" fill=\"#000000\" fill-rule=\"nonzero\" fill-opacity=\"1\" /><path clip-path=\"url(#clip870)\" d=\"M42.4881 310.699 L64.0042 310.699 L64.0042 316.555 L42.679 316.555 Q37.6183 316.555 35.1038 318.529 Q32.5894 320.502 32.5894 324.449 Q32.5894 329.191 35.6131 331.929 Q38.6368 334.666 43.8567 334.666 L64.0042 334.666 L64.0042 340.554 L28.3562 340.554 L28.3562 334.666 L33.8944 334.666 Q30.6797 332.565 29.0883 329.732 Q27.4968 326.868 27.4968 323.144 Q27.4968 317.001 31.3163 313.85 Q35.1038 310.699 42.4881 310.699 Z\" fill=\"#000000\" fill-rule=\"nonzero\" fill-opacity=\"1\" /><polyline clip-path=\"url(#clip872)\" style=\"stroke:#009af9; stroke-linecap:round; stroke-linejoin:round; stroke-width:4; stroke-opacity:1; fill:none\" points=\"280.231,828.25 300.556,1297.19 320.881,236.023 341.206,837.009 361.53,187.453 381.855,1196.63 402.18,985.349 422.505,1217.38 442.83,1279.05 463.155,1358.31 483.48,882.58 503.804,894.125 524.129,894.138 544.454,295.769 564.779,733.939 585.104,708.238 605.429,712.323 625.753,112.198 646.078,132.507 666.403,1046.16 686.728,1228.21 707.053,1338.06 727.378,474.085 747.703,1334.75 768.027,1353.61 788.352,1241.58 808.677,721.702 829.002,844.216 849.327,905.217 869.652,1042.3 889.977,658.933 910.301,800.186 930.626,745.337 950.951,1263.33 971.276,1060.81 991.601,1323.65 1011.93,708.442 1032.25,1117.26 1052.58,516.167 1072.9,204.938 1093.23,689.13 1113.55,222.405 1133.87,1154.62 1154.2,541.429 1174.52,1384.24 1194.85,1083.22 1215.17,887.542 1235.5,157.066 1255.82,128.849 1276.15,1195.2 1296.47,1257.01 1316.8,962.48 1337.12,456.165 1357.45,1345.17 1377.77,1277.45 1398.1,86.1857 1418.42,1204.79 1438.75,813.88 1459.07,834.98 1479.4,1123.2 1499.72,850.916 1520.05,762.617 1540.37,353.979 1560.7,1169.38 1581.02,665.848 1601.35,1328.59 1621.67,188.421 1642,455.836 1662.32,1313.14 1682.65,982.447 1702.97,168.599 1723.3,200.713 1743.62,1377.53 1763.95,820.323 1784.27,348.455 1804.59,1339.39 1824.92,794.028 1845.24,560.953 1865.57,867.702 1885.89,1008.67 1906.22,1198.04 1926.54,828.972 1946.87,1075.25 1967.19,958.339 1987.52,727.885 2007.84,1073.1 2028.17,393.29 2048.49,951.436 2068.82,1188.24 2089.14,396.894 2109.47,1205.78 2129.79,849.198 2150.12,752.726 2170.44,1337.27 2190.77,1063.7 2211.09,1182.81 2231.42,1163.29 2251.74,1351.91 2272.07,1113.07 2292.39,714.656 \"/>\n",
              "<path clip-path=\"url(#clip870)\" d=\"M2015.94 196.789 L2281.66 196.789 L2281.66 93.1086 L2015.94 93.1086  Z\" fill=\"#ffffff\" fill-rule=\"evenodd\" fill-opacity=\"1\"/>\n",
              "<polyline clip-path=\"url(#clip870)\" style=\"stroke:#000000; stroke-linecap:round; stroke-linejoin:round; stroke-width:4; stroke-opacity:1; fill:none\" points=\"2015.94,196.789 2281.66,196.789 2281.66,93.1086 2015.94,93.1086 2015.94,196.789 \"/>\n",
              "<polyline clip-path=\"url(#clip870)\" style=\"stroke:#009af9; stroke-linecap:round; stroke-linejoin:round; stroke-width:4; stroke-opacity:1; fill:none\" points=\"2039.64,144.949 2181.83,144.949 \"/>\n",
              "<path clip-path=\"url(#clip870)\" d=\"M2219.37 164.636 Q2217.57 169.266 2215.85 170.678 Q2214.14 172.09 2211.27 172.09 L2207.87 172.09 L2207.87 168.525 L2210.37 168.525 Q2212.13 168.525 2213.1 167.692 Q2214.07 166.858 2215.25 163.756 L2216.02 161.812 L2205.53 136.303 L2210.04 136.303 L2218.15 156.581 L2226.25 136.303 L2230.76 136.303 L2219.37 164.636 Z\" fill=\"#000000\" fill-rule=\"nonzero\" fill-opacity=\"1\" /><path clip-path=\"url(#clip870)\" d=\"M2238.05 158.293 L2245.69 158.293 L2245.69 131.928 L2237.38 133.595 L2237.38 129.335 L2245.65 127.669 L2250.32 127.669 L2250.32 158.293 L2257.96 158.293 L2257.96 162.229 L2238.05 162.229 L2238.05 158.293 Z\" fill=\"#000000\" fill-rule=\"nonzero\" fill-opacity=\"1\" /></svg>\n"
            ],
            "text/html": [
              "<?xml version=\"1.0\" encoding=\"utf-8\"?>\n",
              "<svg xmlns=\"http://www.w3.org/2000/svg\" xmlns:xlink=\"http://www.w3.org/1999/xlink\" width=\"600\" height=\"400\" viewBox=\"0 0 2400 1600\">\n",
              "<defs>\n",
              "  <clipPath id=\"clip920\">\n",
              "    <rect x=\"0\" y=\"0\" width=\"2400\" height=\"1600\"/>\n",
              "  </clipPath>\n",
              "</defs>\n",
              "<path clip-path=\"url(#clip920)\" d=\"M0 1600 L2400 1600 L2400 0 L0 0  Z\" fill=\"#ffffff\" fill-rule=\"evenodd\" fill-opacity=\"1\"/>\n",
              "<defs>\n",
              "  <clipPath id=\"clip921\">\n",
              "    <rect x=\"480\" y=\"0\" width=\"1681\" height=\"1600\"/>\n",
              "  </clipPath>\n",
              "</defs>\n",
              "<path clip-path=\"url(#clip920)\" d=\"M219.866 1423.18 L2352.76 1423.18 L2352.76 47.2441 L219.866 47.2441  Z\" fill=\"#ffffff\" fill-rule=\"evenodd\" fill-opacity=\"1\"/>\n",
              "<defs>\n",
              "  <clipPath id=\"clip922\">\n",
              "    <rect x=\"219\" y=\"47\" width=\"2134\" height=\"1377\"/>\n",
              "  </clipPath>\n",
              "</defs>\n",
              "<polyline clip-path=\"url(#clip922)\" style=\"stroke:#000000; stroke-linecap:round; stroke-linejoin:round; stroke-width:2; stroke-opacity:0.1; fill:none\" points=\"259.906,1423.18 259.906,47.2441 \"/>\n",
              "<polyline clip-path=\"url(#clip922)\" style=\"stroke:#000000; stroke-linecap:round; stroke-linejoin:round; stroke-width:2; stroke-opacity:0.1; fill:none\" points=\"768.027,1423.18 768.027,47.2441 \"/>\n",
              "<polyline clip-path=\"url(#clip922)\" style=\"stroke:#000000; stroke-linecap:round; stroke-linejoin:round; stroke-width:2; stroke-opacity:0.1; fill:none\" points=\"1276.15,1423.18 1276.15,47.2441 \"/>\n",
              "<polyline clip-path=\"url(#clip922)\" style=\"stroke:#000000; stroke-linecap:round; stroke-linejoin:round; stroke-width:2; stroke-opacity:0.1; fill:none\" points=\"1784.27,1423.18 1784.27,47.2441 \"/>\n",
              "<polyline clip-path=\"url(#clip922)\" style=\"stroke:#000000; stroke-linecap:round; stroke-linejoin:round; stroke-width:2; stroke-opacity:0.1; fill:none\" points=\"2292.39,1423.18 2292.39,47.2441 \"/>\n",
              "<polyline clip-path=\"url(#clip920)\" style=\"stroke:#000000; stroke-linecap:round; stroke-linejoin:round; stroke-width:4; stroke-opacity:1; fill:none\" points=\"219.866,1423.18 2352.76,1423.18 \"/>\n",
              "<polyline clip-path=\"url(#clip920)\" style=\"stroke:#000000; stroke-linecap:round; stroke-linejoin:round; stroke-width:4; stroke-opacity:1; fill:none\" points=\"259.906,1423.18 259.906,1404.28 \"/>\n",
              "<polyline clip-path=\"url(#clip920)\" style=\"stroke:#000000; stroke-linecap:round; stroke-linejoin:round; stroke-width:4; stroke-opacity:1; fill:none\" points=\"768.027,1423.18 768.027,1404.28 \"/>\n",
              "<polyline clip-path=\"url(#clip920)\" style=\"stroke:#000000; stroke-linecap:round; stroke-linejoin:round; stroke-width:4; stroke-opacity:1; fill:none\" points=\"1276.15,1423.18 1276.15,1404.28 \"/>\n",
              "<polyline clip-path=\"url(#clip920)\" style=\"stroke:#000000; stroke-linecap:round; stroke-linejoin:round; stroke-width:4; stroke-opacity:1; fill:none\" points=\"1784.27,1423.18 1784.27,1404.28 \"/>\n",
              "<polyline clip-path=\"url(#clip920)\" style=\"stroke:#000000; stroke-linecap:round; stroke-linejoin:round; stroke-width:4; stroke-opacity:1; fill:none\" points=\"2292.39,1423.18 2292.39,1404.28 \"/>\n",
              "<path clip-path=\"url(#clip920)\" d=\"M259.906 1454.1 Q256.295 1454.1 254.466 1457.66 Q252.661 1461.2 252.661 1468.33 Q252.661 1475.44 254.466 1479.01 Q256.295 1482.55 259.906 1482.55 Q263.54 1482.55 265.346 1479.01 Q267.175 1475.44 267.175 1468.33 Q267.175 1461.2 265.346 1457.66 Q263.54 1454.1 259.906 1454.1 M259.906 1450.39 Q265.716 1450.39 268.772 1455 Q271.851 1459.58 271.851 1468.33 Q271.851 1477.06 268.772 1481.67 Q265.716 1486.25 259.906 1486.25 Q254.096 1486.25 251.017 1481.67 Q247.962 1477.06 247.962 1468.33 Q247.962 1459.58 251.017 1455 Q254.096 1450.39 259.906 1450.39 Z\" fill=\"#000000\" fill-rule=\"nonzero\" fill-opacity=\"1\" /><path clip-path=\"url(#clip920)\" d=\"M747.298 1481.64 L763.618 1481.64 L763.618 1485.58 L741.673 1485.58 L741.673 1481.64 Q744.335 1478.89 748.919 1474.26 Q753.525 1469.61 754.706 1468.27 Q756.951 1465.74 757.831 1464.01 Q758.734 1462.25 758.734 1460.56 Q758.734 1457.8 756.789 1456.07 Q754.868 1454.33 751.766 1454.33 Q749.567 1454.33 747.113 1455.09 Q744.683 1455.86 741.905 1457.41 L741.905 1452.69 Q744.729 1451.55 747.183 1450.97 Q749.636 1450.39 751.673 1450.39 Q757.044 1450.39 760.238 1453.08 Q763.433 1455.77 763.433 1460.26 Q763.433 1462.39 762.622 1464.31 Q761.835 1466.2 759.729 1468.8 Q759.15 1469.47 756.048 1472.69 Q752.947 1475.88 747.298 1481.64 Z\" fill=\"#000000\" fill-rule=\"nonzero\" fill-opacity=\"1\" /><path clip-path=\"url(#clip920)\" d=\"M773.479 1451.02 L791.835 1451.02 L791.835 1454.96 L777.761 1454.96 L777.761 1463.43 Q778.78 1463.08 779.798 1462.92 Q780.817 1462.73 781.835 1462.73 Q787.622 1462.73 791.002 1465.9 Q794.381 1469.08 794.381 1474.49 Q794.381 1480.07 790.909 1483.17 Q787.437 1486.25 781.118 1486.25 Q778.942 1486.25 776.673 1485.88 Q774.428 1485.51 772.02 1484.77 L772.02 1480.07 Q774.104 1481.2 776.326 1481.76 Q778.548 1482.32 781.025 1482.32 Q785.03 1482.32 787.368 1480.21 Q789.706 1478.1 789.706 1474.49 Q789.706 1470.88 787.368 1468.77 Q785.03 1466.67 781.025 1466.67 Q779.15 1466.67 777.275 1467.08 Q775.423 1467.5 773.479 1468.38 L773.479 1451.02 Z\" fill=\"#000000\" fill-rule=\"nonzero\" fill-opacity=\"1\" /><path clip-path=\"url(#clip920)\" d=\"M1250.85 1451.02 L1269.2 1451.02 L1269.2 1454.96 L1255.13 1454.96 L1255.13 1463.43 Q1256.15 1463.08 1257.17 1462.92 Q1258.19 1462.73 1259.2 1462.73 Q1264.99 1462.73 1268.37 1465.9 Q1271.75 1469.08 1271.75 1474.49 Q1271.75 1480.07 1268.28 1483.17 Q1264.81 1486.25 1258.49 1486.25 Q1256.31 1486.25 1254.04 1485.88 Q1251.8 1485.51 1249.39 1484.77 L1249.39 1480.07 Q1251.47 1481.2 1253.7 1481.76 Q1255.92 1482.32 1258.39 1482.32 Q1262.4 1482.32 1264.74 1480.21 Q1267.07 1478.1 1267.07 1474.49 Q1267.07 1470.88 1264.74 1468.77 Q1262.4 1466.67 1258.39 1466.67 Q1256.52 1466.67 1254.64 1467.08 Q1252.79 1467.5 1250.85 1468.38 L1250.85 1451.02 Z\" fill=\"#000000\" fill-rule=\"nonzero\" fill-opacity=\"1\" /><path clip-path=\"url(#clip920)\" d=\"M1290.96 1454.1 Q1287.35 1454.1 1285.52 1457.66 Q1283.72 1461.2 1283.72 1468.33 Q1283.72 1475.44 1285.52 1479.01 Q1287.35 1482.55 1290.96 1482.55 Q1294.6 1482.55 1296.4 1479.01 Q1298.23 1475.44 1298.23 1468.33 Q1298.23 1461.2 1296.4 1457.66 Q1294.6 1454.1 1290.96 1454.1 M1290.96 1450.39 Q1296.77 1450.39 1299.83 1455 Q1302.91 1459.58 1302.91 1468.33 Q1302.91 1477.06 1299.83 1481.67 Q1296.77 1486.25 1290.96 1486.25 Q1285.15 1486.25 1282.07 1481.67 Q1279.02 1477.06 1279.02 1468.33 Q1279.02 1459.58 1282.07 1455 Q1285.15 1450.39 1290.96 1450.39 Z\" fill=\"#000000\" fill-rule=\"nonzero\" fill-opacity=\"1\" /><path clip-path=\"url(#clip920)\" d=\"M1758.12 1451.02 L1780.35 1451.02 L1780.35 1453.01 L1767.8 1485.58 L1762.92 1485.58 L1774.72 1454.96 L1758.12 1454.96 L1758.12 1451.02 Z\" fill=\"#000000\" fill-rule=\"nonzero\" fill-opacity=\"1\" /><path clip-path=\"url(#clip920)\" d=\"M1789.51 1451.02 L1807.87 1451.02 L1807.87 1454.96 L1793.8 1454.96 L1793.8 1463.43 Q1794.81 1463.08 1795.83 1462.92 Q1796.85 1462.73 1797.87 1462.73 Q1803.66 1462.73 1807.04 1465.9 Q1810.42 1469.08 1810.42 1474.49 Q1810.42 1480.07 1806.94 1483.17 Q1803.47 1486.25 1797.15 1486.25 Q1794.98 1486.25 1792.71 1485.88 Q1790.46 1485.51 1788.05 1484.77 L1788.05 1480.07 Q1790.14 1481.2 1792.36 1481.76 Q1794.58 1482.32 1797.06 1482.32 Q1801.06 1482.32 1803.4 1480.21 Q1805.74 1478.1 1805.74 1474.49 Q1805.74 1470.88 1803.4 1468.77 Q1801.06 1466.67 1797.06 1466.67 Q1795.18 1466.67 1793.31 1467.08 Q1791.46 1467.5 1789.51 1468.38 L1789.51 1451.02 Z\" fill=\"#000000\" fill-rule=\"nonzero\" fill-opacity=\"1\" /><path clip-path=\"url(#clip920)\" d=\"M2252 1481.64 L2259.64 1481.64 L2259.64 1455.28 L2251.33 1456.95 L2251.33 1452.69 L2259.59 1451.02 L2264.27 1451.02 L2264.27 1481.64 L2271.91 1481.64 L2271.91 1485.58 L2252 1485.58 L2252 1481.64 Z\" fill=\"#000000\" fill-rule=\"nonzero\" fill-opacity=\"1\" /><path clip-path=\"url(#clip920)\" d=\"M2291.35 1454.1 Q2287.74 1454.1 2285.91 1457.66 Q2284.1 1461.2 2284.1 1468.33 Q2284.1 1475.44 2285.91 1479.01 Q2287.74 1482.55 2291.35 1482.55 Q2294.98 1482.55 2296.79 1479.01 Q2298.62 1475.44 2298.62 1468.33 Q2298.62 1461.2 2296.79 1457.66 Q2294.98 1454.1 2291.35 1454.1 M2291.35 1450.39 Q2297.16 1450.39 2300.22 1455 Q2303.29 1459.58 2303.29 1468.33 Q2303.29 1477.06 2300.22 1481.67 Q2297.16 1486.25 2291.35 1486.25 Q2285.54 1486.25 2282.46 1481.67 Q2279.41 1477.06 2279.41 1468.33 Q2279.41 1459.58 2282.46 1455 Q2285.54 1450.39 2291.35 1450.39 Z\" fill=\"#000000\" fill-rule=\"nonzero\" fill-opacity=\"1\" /><path clip-path=\"url(#clip920)\" d=\"M2321.51 1454.1 Q2317.9 1454.1 2316.07 1457.66 Q2314.27 1461.2 2314.27 1468.33 Q2314.27 1475.44 2316.07 1479.01 Q2317.9 1482.55 2321.51 1482.55 Q2325.15 1482.55 2326.95 1479.01 Q2328.78 1475.44 2328.78 1468.33 Q2328.78 1461.2 2326.95 1457.66 Q2325.15 1454.1 2321.51 1454.1 M2321.51 1450.39 Q2327.32 1450.39 2330.38 1455 Q2333.46 1459.58 2333.46 1468.33 Q2333.46 1477.06 2330.38 1481.67 Q2327.32 1486.25 2321.51 1486.25 Q2315.7 1486.25 2312.62 1481.67 Q2309.57 1477.06 2309.57 1468.33 Q2309.57 1459.58 2312.62 1455 Q2315.7 1450.39 2321.51 1450.39 Z\" fill=\"#000000\" fill-rule=\"nonzero\" fill-opacity=\"1\" /><path clip-path=\"url(#clip920)\" d=\"M1201.85 1520.52 L1208.76 1520.52 L1221.94 1540.07 L1235.02 1520.52 L1241.93 1520.52 L1225.12 1545.41 L1225.12 1568.04 L1218.66 1568.04 L1218.66 1545.41 L1201.85 1520.52 Z\" fill=\"#000000\" fill-rule=\"nonzero\" fill-opacity=\"1\" /><path clip-path=\"url(#clip920)\" d=\"M1269.78 1548.76 L1269.78 1551.62 L1242.85 1551.62 Q1243.23 1557.67 1246.48 1560.85 Q1249.76 1564 1255.58 1564 Q1258.95 1564 1262.11 1563.17 Q1265.29 1562.35 1268.41 1560.69 L1268.41 1566.23 Q1265.26 1567.57 1261.95 1568.27 Q1258.64 1568.97 1255.23 1568.97 Q1246.7 1568.97 1241.7 1564 Q1236.74 1559.04 1236.74 1550.57 Q1236.74 1541.82 1241.45 1536.69 Q1246.19 1531.54 1254.21 1531.54 Q1261.41 1531.54 1265.57 1536.18 Q1269.78 1540.8 1269.78 1548.76 M1263.92 1547.04 Q1263.86 1542.23 1261.21 1539.37 Q1258.6 1536.5 1254.28 1536.5 Q1249.37 1536.5 1246.41 1539.27 Q1243.49 1542.04 1243.04 1547.07 L1263.92 1547.04 Z\" fill=\"#000000\" fill-rule=\"nonzero\" fill-opacity=\"1\" /><path clip-path=\"url(#clip920)\" d=\"M1295.59 1550.12 Q1288.49 1550.12 1285.75 1551.75 Q1283.02 1553.37 1283.02 1557.29 Q1283.02 1560.4 1285.05 1562.25 Q1287.12 1564.07 1290.66 1564.07 Q1295.53 1564.07 1298.45 1560.63 Q1301.41 1557.16 1301.41 1551.43 L1301.41 1550.12 L1295.59 1550.12 M1307.27 1547.71 L1307.27 1568.04 L1301.41 1568.04 L1301.41 1562.63 Q1299.41 1565.88 1296.42 1567.44 Q1293.42 1568.97 1289.1 1568.97 Q1283.62 1568.97 1280.38 1565.91 Q1277.16 1562.82 1277.16 1557.67 Q1277.16 1551.65 1281.17 1548.6 Q1285.21 1545.54 1293.2 1545.54 L1301.41 1545.54 L1301.41 1544.97 Q1301.41 1540.93 1298.74 1538.73 Q1296.1 1536.5 1291.29 1536.5 Q1288.24 1536.5 1285.34 1537.23 Q1282.44 1537.97 1279.77 1539.43 L1279.77 1534.02 Q1282.99 1532.78 1286.01 1532.17 Q1289.03 1531.54 1291.9 1531.54 Q1299.63 1531.54 1303.45 1535.55 Q1307.27 1539.56 1307.27 1547.71 Z\" fill=\"#000000\" fill-rule=\"nonzero\" fill-opacity=\"1\" /><path clip-path=\"url(#clip920)\" d=\"M1339.99 1537.87 Q1339 1537.3 1337.83 1537.04 Q1336.68 1536.76 1335.28 1536.76 Q1330.31 1536.76 1327.64 1540 Q1325 1543.22 1325 1549.27 L1325 1568.04 L1319.11 1568.04 L1319.11 1532.4 L1325 1532.4 L1325 1537.93 Q1326.84 1534.69 1329.8 1533.13 Q1332.76 1531.54 1337 1531.54 Q1337.6 1531.54 1338.33 1531.63 Q1339.07 1531.7 1339.96 1531.85 L1339.99 1537.87 Z\" fill=\"#000000\" fill-rule=\"nonzero\" fill-opacity=\"1\" /><path clip-path=\"url(#clip920)\" d=\"M1368.86 1533.45 L1368.86 1538.98 Q1366.38 1537.71 1363.7 1537.07 Q1361.03 1536.44 1358.16 1536.44 Q1353.8 1536.44 1351.61 1537.77 Q1349.44 1539.11 1349.44 1541.79 Q1349.44 1543.82 1351 1545 Q1352.56 1546.15 1357.27 1547.2 L1359.28 1547.64 Q1365.52 1548.98 1368.13 1551.43 Q1370.77 1553.85 1370.77 1558.21 Q1370.77 1563.17 1366.82 1566.07 Q1362.91 1568.97 1356.03 1568.97 Q1353.17 1568.97 1350.05 1568.39 Q1346.96 1567.85 1343.52 1566.74 L1343.52 1560.69 Q1346.77 1562.38 1349.92 1563.24 Q1353.07 1564.07 1356.16 1564.07 Q1360.3 1564.07 1362.52 1562.66 Q1364.75 1561.23 1364.75 1558.65 Q1364.75 1556.27 1363.13 1554.99 Q1361.54 1553.72 1356.1 1552.54 L1354.06 1552.07 Q1348.62 1550.92 1346.2 1548.56 Q1343.78 1546.18 1343.78 1542.04 Q1343.78 1537.01 1347.34 1534.27 Q1350.91 1531.54 1357.46 1531.54 Q1360.71 1531.54 1363.57 1532.01 Q1366.44 1532.49 1368.86 1533.45 Z\" fill=\"#000000\" fill-rule=\"nonzero\" fill-opacity=\"1\" /><polyline clip-path=\"url(#clip922)\" style=\"stroke:#000000; stroke-linecap:round; stroke-linejoin:round; stroke-width:2; stroke-opacity:0.1; fill:none\" points=\"219.866,1384.69 2352.76,1384.69 \"/>\n",
              "<polyline clip-path=\"url(#clip922)\" style=\"stroke:#000000; stroke-linecap:round; stroke-linejoin:round; stroke-width:2; stroke-opacity:0.1; fill:none\" points=\"219.866,1116.09 2352.76,1116.09 \"/>\n",
              "<polyline clip-path=\"url(#clip922)\" style=\"stroke:#000000; stroke-linecap:round; stroke-linejoin:round; stroke-width:2; stroke-opacity:0.1; fill:none\" points=\"219.866,847.49 2352.76,847.49 \"/>\n",
              "<polyline clip-path=\"url(#clip922)\" style=\"stroke:#000000; stroke-linecap:round; stroke-linejoin:round; stroke-width:2; stroke-opacity:0.1; fill:none\" points=\"219.866,578.89 2352.76,578.89 \"/>\n",
              "<polyline clip-path=\"url(#clip922)\" style=\"stroke:#000000; stroke-linecap:round; stroke-linejoin:round; stroke-width:2; stroke-opacity:0.1; fill:none\" points=\"219.866,310.29 2352.76,310.29 \"/>\n",
              "<polyline clip-path=\"url(#clip920)\" style=\"stroke:#000000; stroke-linecap:round; stroke-linejoin:round; stroke-width:4; stroke-opacity:1; fill:none\" points=\"219.866,1423.18 219.866,47.2441 \"/>\n",
              "<polyline clip-path=\"url(#clip920)\" style=\"stroke:#000000; stroke-linecap:round; stroke-linejoin:round; stroke-width:4; stroke-opacity:1; fill:none\" points=\"219.866,1384.69 238.764,1384.69 \"/>\n",
              "<polyline clip-path=\"url(#clip920)\" style=\"stroke:#000000; stroke-linecap:round; stroke-linejoin:round; stroke-width:4; stroke-opacity:1; fill:none\" points=\"219.866,1116.09 238.764,1116.09 \"/>\n",
              "<polyline clip-path=\"url(#clip920)\" style=\"stroke:#000000; stroke-linecap:round; stroke-linejoin:round; stroke-width:4; stroke-opacity:1; fill:none\" points=\"219.866,847.49 238.764,847.49 \"/>\n",
              "<polyline clip-path=\"url(#clip920)\" style=\"stroke:#000000; stroke-linecap:round; stroke-linejoin:round; stroke-width:4; stroke-opacity:1; fill:none\" points=\"219.866,578.89 238.764,578.89 \"/>\n",
              "<polyline clip-path=\"url(#clip920)\" style=\"stroke:#000000; stroke-linecap:round; stroke-linejoin:round; stroke-width:4; stroke-opacity:1; fill:none\" points=\"219.866,310.29 238.764,310.29 \"/>\n",
              "<path clip-path=\"url(#clip920)\" d=\"M126.691 1370.49 Q123.08 1370.49 121.251 1374.05 Q119.445 1377.59 119.445 1384.72 Q119.445 1391.83 121.251 1395.4 Q123.08 1398.94 126.691 1398.94 Q130.325 1398.94 132.13 1395.4 Q133.959 1391.83 133.959 1384.72 Q133.959 1377.59 132.13 1374.05 Q130.325 1370.49 126.691 1370.49 M126.691 1366.78 Q132.501 1366.78 135.556 1371.39 Q138.635 1375.97 138.635 1384.72 Q138.635 1393.45 135.556 1398.06 Q132.501 1402.64 126.691 1402.64 Q120.88 1402.64 117.802 1398.06 Q114.746 1393.45 114.746 1384.72 Q114.746 1375.97 117.802 1371.39 Q120.88 1366.78 126.691 1366.78 Z\" fill=\"#000000\" fill-rule=\"nonzero\" fill-opacity=\"1\" /><path clip-path=\"url(#clip920)\" d=\"M146.853 1396.09 L151.737 1396.09 L151.737 1401.97 L146.853 1401.97 L146.853 1396.09 Z\" fill=\"#000000\" fill-rule=\"nonzero\" fill-opacity=\"1\" /><path clip-path=\"url(#clip920)\" d=\"M171.922 1370.49 Q168.311 1370.49 166.482 1374.05 Q164.677 1377.59 164.677 1384.72 Q164.677 1391.83 166.482 1395.4 Q168.311 1398.94 171.922 1398.94 Q175.556 1398.94 177.362 1395.4 Q179.19 1391.83 179.19 1384.72 Q179.19 1377.59 177.362 1374.05 Q175.556 1370.49 171.922 1370.49 M171.922 1366.78 Q177.732 1366.78 180.788 1371.39 Q183.866 1375.97 183.866 1384.72 Q183.866 1393.45 180.788 1398.06 Q177.732 1402.64 171.922 1402.64 Q166.112 1402.64 163.033 1398.06 Q159.978 1393.45 159.978 1384.72 Q159.978 1375.97 163.033 1371.39 Q166.112 1366.78 171.922 1366.78 Z\" fill=\"#000000\" fill-rule=\"nonzero\" fill-opacity=\"1\" /><path clip-path=\"url(#clip920)\" d=\"M127.917 1101.89 Q124.306 1101.89 122.478 1105.45 Q120.672 1108.99 120.672 1116.12 Q120.672 1123.23 122.478 1126.8 Q124.306 1130.34 127.917 1130.34 Q131.552 1130.34 133.357 1126.8 Q135.186 1123.23 135.186 1116.12 Q135.186 1108.99 133.357 1105.45 Q131.552 1101.89 127.917 1101.89 M127.917 1098.18 Q133.728 1098.18 136.783 1102.79 Q139.862 1107.37 139.862 1116.12 Q139.862 1124.85 136.783 1129.46 Q133.728 1134.04 127.917 1134.04 Q122.107 1134.04 119.029 1129.46 Q115.973 1124.85 115.973 1116.12 Q115.973 1107.37 119.029 1102.79 Q122.107 1098.18 127.917 1098.18 Z\" fill=\"#000000\" fill-rule=\"nonzero\" fill-opacity=\"1\" /><path clip-path=\"url(#clip920)\" d=\"M148.079 1127.49 L152.964 1127.49 L152.964 1133.37 L148.079 1133.37 L148.079 1127.49 Z\" fill=\"#000000\" fill-rule=\"nonzero\" fill-opacity=\"1\" /><path clip-path=\"url(#clip920)\" d=\"M163.959 1129.43 L171.598 1129.43 L171.598 1103.07 L163.288 1104.74 L163.288 1100.48 L171.552 1098.81 L176.227 1098.81 L176.227 1129.43 L183.866 1129.43 L183.866 1133.37 L163.959 1133.37 L163.959 1129.43 Z\" fill=\"#000000\" fill-rule=\"nonzero\" fill-opacity=\"1\" /><path clip-path=\"url(#clip920)\" d=\"M128.288 833.288 Q124.677 833.288 122.848 836.853 Q121.043 840.395 121.043 847.524 Q121.043 854.631 122.848 858.196 Q124.677 861.737 128.288 861.737 Q131.922 861.737 133.728 858.196 Q135.556 854.631 135.556 847.524 Q135.556 840.395 133.728 836.853 Q131.922 833.288 128.288 833.288 M128.288 829.585 Q134.098 829.585 137.154 834.191 Q140.232 838.774 140.232 847.524 Q140.232 856.251 137.154 860.858 Q134.098 865.441 128.288 865.441 Q122.478 865.441 119.399 860.858 Q116.343 856.251 116.343 847.524 Q116.343 838.774 119.399 834.191 Q122.478 829.585 128.288 829.585 Z\" fill=\"#000000\" fill-rule=\"nonzero\" fill-opacity=\"1\" /><path clip-path=\"url(#clip920)\" d=\"M148.45 858.89 L153.334 858.89 L153.334 864.77 L148.45 864.77 L148.45 858.89 Z\" fill=\"#000000\" fill-rule=\"nonzero\" fill-opacity=\"1\" /><path clip-path=\"url(#clip920)\" d=\"M167.547 860.834 L183.866 860.834 L183.866 864.77 L161.922 864.77 L161.922 860.834 Q164.584 858.08 169.167 853.45 Q173.774 848.797 174.954 847.455 Q177.2 844.932 178.079 843.196 Q178.982 841.436 178.982 839.747 Q178.982 836.992 177.038 835.256 Q175.116 833.52 172.014 833.52 Q169.815 833.52 167.362 834.284 Q164.931 835.048 162.153 836.598 L162.153 831.876 Q164.977 830.742 167.431 830.163 Q169.885 829.585 171.922 829.585 Q177.292 829.585 180.487 832.27 Q183.681 834.955 183.681 839.446 Q183.681 841.575 182.871 843.497 Q182.084 845.395 179.977 847.987 Q179.399 848.659 176.297 851.876 Q173.195 855.071 167.547 860.834 Z\" fill=\"#000000\" fill-rule=\"nonzero\" fill-opacity=\"1\" /><path clip-path=\"url(#clip920)\" d=\"M127.339 564.688 Q123.728 564.688 121.899 568.253 Q120.093 571.795 120.093 578.924 Q120.093 586.031 121.899 589.596 Q123.728 593.137 127.339 593.137 Q130.973 593.137 132.779 589.596 Q134.607 586.031 134.607 578.924 Q134.607 571.795 132.779 568.253 Q130.973 564.688 127.339 564.688 M127.339 560.985 Q133.149 560.985 136.204 565.591 Q139.283 570.174 139.283 578.924 Q139.283 587.651 136.204 592.258 Q133.149 596.841 127.339 596.841 Q121.529 596.841 118.45 592.258 Q115.394 587.651 115.394 578.924 Q115.394 570.174 118.45 565.591 Q121.529 560.985 127.339 560.985 Z\" fill=\"#000000\" fill-rule=\"nonzero\" fill-opacity=\"1\" /><path clip-path=\"url(#clip920)\" d=\"M147.501 590.29 L152.385 590.29 L152.385 596.17 L147.501 596.17 L147.501 590.29 Z\" fill=\"#000000\" fill-rule=\"nonzero\" fill-opacity=\"1\" /><path clip-path=\"url(#clip920)\" d=\"M176.737 577.535 Q180.093 578.253 181.968 580.522 Q183.866 582.79 183.866 586.123 Q183.866 591.239 180.348 594.04 Q176.829 596.841 170.348 596.841 Q168.172 596.841 165.857 596.401 Q163.565 595.984 161.112 595.128 L161.112 590.614 Q163.056 591.748 165.371 592.327 Q167.686 592.906 170.209 592.906 Q174.607 592.906 176.899 591.17 Q179.214 589.433 179.214 586.123 Q179.214 583.068 177.061 581.355 Q174.931 579.619 171.112 579.619 L167.084 579.619 L167.084 575.776 L171.297 575.776 Q174.746 575.776 176.575 574.41 Q178.403 573.022 178.403 570.429 Q178.403 567.767 176.505 566.355 Q174.63 564.92 171.112 564.92 Q169.19 564.92 166.991 565.336 Q164.792 565.753 162.153 566.633 L162.153 562.466 Q164.815 561.725 167.13 561.355 Q169.468 560.985 171.528 560.985 Q176.852 560.985 179.954 563.415 Q183.056 565.823 183.056 569.943 Q183.056 572.813 181.413 574.804 Q179.769 576.772 176.737 577.535 Z\" fill=\"#000000\" fill-rule=\"nonzero\" fill-opacity=\"1\" /><path clip-path=\"url(#clip920)\" d=\"M126.205 296.088 Q122.593 296.088 120.765 299.653 Q118.959 303.195 118.959 310.324 Q118.959 317.431 120.765 320.996 Q122.593 324.537 126.205 324.537 Q129.839 324.537 131.644 320.996 Q133.473 317.431 133.473 310.324 Q133.473 303.195 131.644 299.653 Q129.839 296.088 126.205 296.088 M126.205 292.385 Q132.015 292.385 135.07 296.991 Q138.149 301.574 138.149 310.324 Q138.149 319.051 135.07 323.658 Q132.015 328.241 126.205 328.241 Q120.394 328.241 117.316 323.658 Q114.26 319.051 114.26 310.324 Q114.26 301.574 117.316 296.991 Q120.394 292.385 126.205 292.385 Z\" fill=\"#000000\" fill-rule=\"nonzero\" fill-opacity=\"1\" /><path clip-path=\"url(#clip920)\" d=\"M146.366 321.69 L151.251 321.69 L151.251 327.57 L146.366 327.57 L146.366 321.69 Z\" fill=\"#000000\" fill-rule=\"nonzero\" fill-opacity=\"1\" /><path clip-path=\"url(#clip920)\" d=\"M174.283 297.084 L162.477 315.533 L174.283 315.533 L174.283 297.084 M173.056 293.01 L178.936 293.01 L178.936 315.533 L183.866 315.533 L183.866 319.421 L178.936 319.421 L178.936 327.57 L174.283 327.57 L174.283 319.421 L158.681 319.421 L158.681 314.908 L173.056 293.01 Z\" fill=\"#000000\" fill-rule=\"nonzero\" fill-opacity=\"1\" /><path clip-path=\"url(#clip920)\" d=\"M21.7677 1153.3 L39.6235 1153.3 L39.6235 1145.21 Q39.6235 1140.72 37.3 1138.27 Q34.9765 1135.82 30.6797 1135.82 Q26.4147 1135.82 24.0912 1138.27 Q21.7677 1140.72 21.7677 1145.21 L21.7677 1153.3 M16.4842 1159.73 L16.4842 1145.21 Q16.4842 1137.22 20.1126 1133.15 Q23.7092 1129.04 30.6797 1129.04 Q37.7138 1129.04 41.3104 1133.15 Q44.907 1137.22 44.907 1145.21 L44.907 1153.3 L64.0042 1153.3 L64.0042 1159.73 L16.4842 1159.73 Z\" fill=\"#000000\" fill-rule=\"nonzero\" fill-opacity=\"1\" /><path clip-path=\"url(#clip920)\" d=\"M42.4881 1091.04 L64.0042 1091.04 L64.0042 1096.9 L42.679 1096.9 Q37.6183 1096.9 35.1038 1098.87 Q32.5894 1100.84 32.5894 1104.79 Q32.5894 1109.53 35.6131 1112.27 Q38.6368 1115.01 43.8567 1115.01 L64.0042 1115.01 L64.0042 1120.89 L14.479 1120.89 L14.479 1115.01 L33.8944 1115.01 Q30.6797 1112.91 29.0883 1110.07 Q27.4968 1107.21 27.4968 1103.48 Q27.4968 1097.34 31.3163 1094.19 Q35.1038 1091.04 42.4881 1091.04 Z\" fill=\"#000000\" fill-rule=\"nonzero\" fill-opacity=\"1\" /><path clip-path=\"url(#clip920)\" d=\"M32.4621 1065.54 Q32.4621 1070.26 36.1542 1072.99 Q39.8145 1075.73 46.212 1075.73 Q52.6095 1075.73 56.3017 1073.02 Q59.9619 1070.29 59.9619 1065.54 Q59.9619 1060.87 56.2698 1058.13 Q52.5777 1055.39 46.212 1055.39 Q39.8781 1055.39 36.186 1058.13 Q32.4621 1060.87 32.4621 1065.54 M27.4968 1065.54 Q27.4968 1057.91 32.4621 1053.55 Q37.4273 1049.18 46.212 1049.18 Q54.9649 1049.18 59.9619 1053.55 Q64.9272 1057.91 64.9272 1065.54 Q64.9272 1073.22 59.9619 1077.58 Q54.9649 1081.9 46.212 1081.9 Q37.4273 1081.9 32.4621 1077.58 Q27.4968 1073.22 27.4968 1065.54 Z\" fill=\"#000000\" fill-rule=\"nonzero\" fill-opacity=\"1\" /><path clip-path=\"url(#clip920)\" d=\"M29.4065 1016.75 L34.9447 1016.75 Q33.6716 1019.23 33.035 1021.91 Q32.3984 1024.58 32.3984 1027.45 Q32.3984 1031.81 33.7352 1034 Q35.072 1036.17 37.7456 1036.17 Q39.7826 1036.17 40.9603 1034.61 Q42.1061 1033.05 43.1565 1028.34 L43.6021 1026.33 Q44.9389 1020.09 47.3897 1017.48 Q49.8086 1014.84 54.1691 1014.84 Q59.1344 1014.84 62.0308 1018.79 Q64.9272 1022.7 64.9272 1029.58 Q64.9272 1032.44 64.3543 1035.56 Q63.8132 1038.65 62.6992 1042.09 L56.6518 1042.09 Q58.3387 1038.84 59.198 1035.69 Q60.0256 1032.54 60.0256 1029.45 Q60.0256 1025.31 58.6251 1023.09 Q57.1929 1020.86 54.6147 1020.86 Q52.2276 1020.86 50.9545 1022.48 Q49.6813 1024.07 48.5037 1029.51 L48.0262 1031.55 Q46.8804 1036.99 44.5251 1039.41 Q42.138 1041.83 38.0002 1041.83 Q32.9713 1041.83 30.2341 1038.27 Q27.4968 1034.7 27.4968 1028.15 Q27.4968 1024.9 27.9743 1022.03 Q28.4517 1019.17 29.4065 1016.75 Z\" fill=\"#000000\" fill-rule=\"nonzero\" fill-opacity=\"1\" /><path clip-path=\"url(#clip920)\" d=\"M58.657 999.85 L77.5631 999.85 L77.5631 1005.74 L28.3562 1005.74 L28.3562 999.85 L33.7671 999.85 Q30.5842 998.004 29.0564 995.203 Q27.4968 992.371 27.4968 988.456 Q27.4968 981.963 32.6531 977.92 Q37.8093 973.846 46.212 973.846 Q54.6147 973.846 59.771 977.92 Q64.9272 981.963 64.9272 988.456 Q64.9272 992.371 63.3994 995.203 Q61.8398 998.004 58.657 999.85 M46.212 979.926 Q39.7508 979.926 36.0905 982.599 Q32.3984 985.241 32.3984 989.888 Q32.3984 994.535 36.0905 997.209 Q39.7508 999.85 46.212 999.85 Q52.6732 999.85 56.3653 997.209 Q60.0256 994.535 60.0256 989.888 Q60.0256 985.241 56.3653 982.599 Q52.6732 979.926 46.212 979.926 Z\" fill=\"#000000\" fill-rule=\"nonzero\" fill-opacity=\"1\" /><path clip-path=\"url(#clip920)\" d=\"M42.4881 934.506 L64.0042 934.506 L64.0042 940.363 L42.679 940.363 Q37.6183 940.363 35.1038 942.336 Q32.5894 944.31 32.5894 948.256 Q32.5894 952.999 35.6131 955.736 Q38.6368 958.473 43.8567 958.473 L64.0042 958.473 L64.0042 964.361 L14.479 964.361 L14.479 958.473 L33.8944 958.473 Q30.6797 956.373 29.0883 953.54 Q27.4968 950.675 27.4968 946.951 Q27.4968 940.808 31.3163 937.657 Q35.1038 934.506 42.4881 934.506 Z\" fill=\"#000000\" fill-rule=\"nonzero\" fill-opacity=\"1\" /><path clip-path=\"url(#clip920)\" d=\"M32.4621 909.012 Q32.4621 913.722 36.1542 916.46 Q39.8145 919.197 46.212 919.197 Q52.6095 919.197 56.3017 916.491 Q59.9619 913.754 59.9619 909.012 Q59.9619 904.333 56.2698 901.596 Q52.5777 898.858 46.212 898.858 Q39.8781 898.858 36.186 901.596 Q32.4621 904.333 32.4621 909.012 M27.4968 909.012 Q27.4968 901.373 32.4621 897.012 Q37.4273 892.652 46.212 892.652 Q54.9649 892.652 59.9619 897.012 Q64.9272 901.373 64.9272 909.012 Q64.9272 916.682 59.9619 921.043 Q54.9649 925.372 46.212 925.372 Q37.4273 925.372 32.4621 921.043 Q27.4968 916.682 27.4968 909.012 Z\" fill=\"#000000\" fill-rule=\"nonzero\" fill-opacity=\"1\" /><path clip-path=\"url(#clip920)\" d=\"M33.8307 862.287 Q33.2578 863.274 33.0032 864.452 Q32.7167 865.598 32.7167 866.998 Q32.7167 871.963 35.9632 874.637 Q39.1779 877.279 45.2253 877.279 L64.0042 877.279 L64.0042 883.167 L28.3562 883.167 L28.3562 877.279 L33.8944 877.279 Q30.6479 875.433 29.0883 872.473 Q27.4968 869.512 27.4968 865.279 Q27.4968 864.675 27.5923 863.942 Q27.656 863.21 27.8151 862.319 L33.8307 862.287 Z\" fill=\"#000000\" fill-rule=\"nonzero\" fill-opacity=\"1\" /><path clip-path=\"url(#clip920)\" d=\"M49.9359 856.749 L28.3562 856.749 L28.3562 850.893 L49.7131 850.893 Q54.7739 850.893 57.3202 848.919 Q59.8346 846.946 59.8346 842.999 Q59.8346 838.257 56.8109 835.52 Q53.7872 832.751 48.5673 832.751 L28.3562 832.751 L28.3562 826.894 L64.0042 826.894 L64.0042 832.751 L58.5296 832.751 Q61.7762 834.883 63.3676 837.716 Q64.9272 840.517 64.9272 844.241 Q64.9272 850.384 61.1078 853.566 Q57.2883 856.749 49.9359 856.749 M27.4968 842.013 L27.4968 842.013 Z\" fill=\"#000000\" fill-rule=\"nonzero\" fill-opacity=\"1\" /><path clip-path=\"url(#clip920)\" d=\"M29.4065 792.105 L34.9447 792.105 Q33.6716 794.588 33.035 797.262 Q32.3984 799.935 32.3984 802.8 Q32.3984 807.16 33.7352 809.357 Q35.072 811.521 37.7456 811.521 Q39.7826 811.521 40.9603 809.961 Q42.1061 808.402 43.1565 803.691 L43.6021 801.686 Q44.9389 795.447 47.3897 792.838 Q49.8086 790.196 54.1691 790.196 Q59.1344 790.196 62.0308 794.142 Q64.9272 798.057 64.9272 804.932 Q64.9272 807.797 64.3543 810.916 Q63.8132 814.004 62.6992 817.441 L56.6518 817.441 Q58.3387 814.194 59.198 811.043 Q60.0256 807.892 60.0256 804.805 Q60.0256 800.667 58.6251 798.439 Q57.1929 796.211 54.6147 796.211 Q52.2276 796.211 50.9545 797.835 Q49.6813 799.426 48.5037 804.869 L48.0262 806.906 Q46.8804 812.348 44.5251 814.767 Q42.138 817.186 38.0002 817.186 Q32.9713 817.186 30.2341 813.622 Q27.4968 810.057 27.4968 803.5 Q27.4968 800.254 27.9743 797.389 Q28.4517 794.524 29.4065 792.105 Z\" fill=\"#000000\" fill-rule=\"nonzero\" fill-opacity=\"1\" /><path clip-path=\"url(#clip920)\" d=\"M20.1444 724.311 L26.9239 724.311 Q23.9002 727.557 22.4043 731.249 Q20.9083 734.91 20.9083 739.047 Q20.9083 747.195 25.9054 751.524 Q30.8707 755.853 40.2919 755.853 Q49.6813 755.853 54.6784 751.524 Q59.6436 747.195 59.6436 739.047 Q59.6436 734.91 58.1477 731.249 Q56.6518 727.557 53.6281 724.311 L60.3439 724.311 Q62.6355 727.685 63.7814 731.472 Q64.9272 735.228 64.9272 739.429 Q64.9272 750.219 58.3387 756.426 Q51.7183 762.632 40.2919 762.632 Q28.8336 762.632 22.2451 756.426 Q15.6248 750.219 15.6248 739.429 Q15.6248 735.164 16.7706 731.408 Q17.8846 727.621 20.1444 724.311 Z\" fill=\"#000000\" fill-rule=\"nonzero\" fill-opacity=\"1\" /><path clip-path=\"url(#clip920)\" d=\"M32.4621 700.821 Q32.4621 705.532 36.1542 708.269 Q39.8145 711.006 46.212 711.006 Q52.6095 711.006 56.3017 708.301 Q59.9619 705.564 59.9619 700.821 Q59.9619 696.142 56.2698 693.405 Q52.5777 690.668 46.212 690.668 Q39.8781 690.668 36.186 693.405 Q32.4621 696.142 32.4621 700.821 M27.4968 700.821 Q27.4968 693.182 32.4621 688.822 Q37.4273 684.461 46.212 684.461 Q54.9649 684.461 59.9619 688.822 Q64.9272 693.182 64.9272 700.821 Q64.9272 708.492 59.9619 712.852 Q54.9649 717.181 46.212 717.181 Q37.4273 717.181 32.4621 712.852 Q27.4968 708.492 27.4968 700.821 Z\" fill=\"#000000\" fill-rule=\"nonzero\" fill-opacity=\"1\" /><path clip-path=\"url(#clip920)\" d=\"M42.4881 645.121 L64.0042 645.121 L64.0042 650.978 L42.679 650.978 Q37.6183 650.978 35.1038 652.951 Q32.5894 654.924 32.5894 658.871 Q32.5894 663.614 35.6131 666.351 Q38.6368 669.088 43.8567 669.088 L64.0042 669.088 L64.0042 674.976 L28.3562 674.976 L28.3562 669.088 L33.8944 669.088 Q30.6797 666.988 29.0883 664.155 Q27.4968 661.29 27.4968 657.566 Q27.4968 651.423 31.3163 648.272 Q35.1038 645.121 42.4881 645.121 Z\" fill=\"#000000\" fill-rule=\"nonzero\" fill-opacity=\"1\" /><path clip-path=\"url(#clip920)\" d=\"M29.7248 607.786 L35.1993 607.786 Q33.8307 610.269 33.1623 612.784 Q32.4621 615.266 32.4621 617.812 Q32.4621 623.51 36.0905 626.661 Q39.6872 629.812 46.212 629.812 Q52.7369 629.812 56.3653 626.661 Q59.9619 623.51 59.9619 617.812 Q59.9619 615.266 59.2935 612.784 Q58.5933 610.269 57.2247 607.786 L62.6355 607.786 Q63.7814 610.237 64.3543 612.879 Q64.9272 615.489 64.9272 618.449 Q64.9272 626.502 59.8664 631.244 Q54.8057 635.987 46.212 635.987 Q37.491 635.987 32.4939 631.212 Q27.4968 626.406 27.4968 618.067 Q27.4968 615.362 28.0697 612.784 Q28.6108 610.205 29.7248 607.786 Z\" fill=\"#000000\" fill-rule=\"nonzero\" fill-opacity=\"1\" /><path clip-path=\"url(#clip920)\" d=\"M44.7161 567.11 L47.5806 567.11 L47.5806 594.037 Q53.6281 593.655 56.8109 590.408 Q59.9619 587.13 59.9619 581.305 Q59.9619 577.931 59.1344 574.78 Q58.3069 571.597 56.6518 568.478 L62.1899 568.478 Q63.5267 571.629 64.227 574.939 Q64.9272 578.25 64.9272 581.655 Q64.9272 590.185 59.9619 595.182 Q54.9967 600.148 46.5303 600.148 Q37.7774 600.148 32.6531 595.437 Q27.4968 590.695 27.4968 582.674 Q27.4968 575.48 32.1438 571.311 Q36.7589 567.11 44.7161 567.11 M42.9973 572.966 Q38.1912 573.03 35.3266 575.671 Q32.4621 578.281 32.4621 582.61 Q32.4621 587.512 35.2312 590.472 Q38.0002 593.4 43.0292 593.846 L42.9973 572.966 Z\" fill=\"#000000\" fill-rule=\"nonzero\" fill-opacity=\"1\" /><path clip-path=\"url(#clip920)\" d=\"M42.4881 527.865 L64.0042 527.865 L64.0042 533.721 L42.679 533.721 Q37.6183 533.721 35.1038 535.695 Q32.5894 537.668 32.5894 541.615 Q32.5894 546.357 35.6131 549.095 Q38.6368 551.832 43.8567 551.832 L64.0042 551.832 L64.0042 557.72 L28.3562 557.72 L28.3562 551.832 L33.8944 551.832 Q30.6797 549.731 29.0883 546.898 Q27.4968 544.034 27.4968 540.31 Q27.4968 534.167 31.3163 531.016 Q35.1038 527.865 42.4881 527.865 Z\" fill=\"#000000\" fill-rule=\"nonzero\" fill-opacity=\"1\" /><path clip-path=\"url(#clip920)\" d=\"M18.2347 510.391 L28.3562 510.391 L28.3562 498.328 L32.9077 498.328 L32.9077 510.391 L52.2594 510.391 Q56.6199 510.391 57.8613 509.213 Q59.1026 508.004 59.1026 504.344 L59.1026 498.328 L64.0042 498.328 L64.0042 504.344 Q64.0042 511.123 61.4897 513.701 Q58.9434 516.279 52.2594 516.279 L32.9077 516.279 L32.9077 520.576 L28.3562 520.576 L28.3562 516.279 L18.2347 516.279 L18.2347 510.391 Z\" fill=\"#000000\" fill-rule=\"nonzero\" fill-opacity=\"1\" /><path clip-path=\"url(#clip920)\" d=\"M33.8307 469.969 Q33.2578 470.956 33.0032 472.133 Q32.7167 473.279 32.7167 474.68 Q32.7167 479.645 35.9632 482.318 Q39.1779 484.96 45.2253 484.96 L64.0042 484.96 L64.0042 490.848 L28.3562 490.848 L28.3562 484.96 L33.8944 484.96 Q30.6479 483.114 29.0883 480.154 Q27.4968 477.194 27.4968 472.961 Q27.4968 472.356 27.5923 471.624 Q27.656 470.892 27.8151 470.001 L33.8307 469.969 Z\" fill=\"#000000\" fill-rule=\"nonzero\" fill-opacity=\"1\" /><path clip-path=\"url(#clip920)\" d=\"M46.0847 447.625 Q46.0847 454.723 47.7079 457.46 Q49.3312 460.198 53.2461 460.198 Q56.3653 460.198 58.2114 458.161 Q60.0256 456.092 60.0256 452.559 Q60.0256 447.689 56.5881 444.761 Q53.1188 441.801 47.3897 441.801 L46.0847 441.801 L46.0847 447.625 M43.6657 435.944 L64.0042 435.944 L64.0042 441.801 L58.5933 441.801 Q61.8398 443.806 63.3994 446.798 Q64.9272 449.79 64.9272 454.118 Q64.9272 459.593 61.8716 462.839 Q58.7843 466.054 53.6281 466.054 Q47.6125 466.054 44.5569 462.044 Q41.5014 458.001 41.5014 450.012 L41.5014 441.801 L40.9285 441.801 Q36.8862 441.801 34.6901 444.474 Q32.4621 447.116 32.4621 451.922 Q32.4621 454.978 33.1941 457.874 Q33.9262 460.77 35.3903 463.444 L29.9795 463.444 Q28.7381 460.229 28.1334 457.206 Q27.4968 454.182 27.4968 451.317 Q27.4968 443.583 31.5072 439.764 Q35.5176 435.944 43.6657 435.944 Z\" fill=\"#000000\" fill-rule=\"nonzero\" fill-opacity=\"1\" /><path clip-path=\"url(#clip920)\" d=\"M18.2347 418.088 L28.3562 418.088 L28.3562 406.025 L32.9077 406.025 L32.9077 418.088 L52.2594 418.088 Q56.6199 418.088 57.8613 416.911 Q59.1026 415.701 59.1026 412.041 L59.1026 406.025 L64.0042 406.025 L64.0042 412.041 Q64.0042 418.82 61.4897 421.399 Q58.9434 423.977 52.2594 423.977 L32.9077 423.977 L32.9077 428.274 L28.3562 428.274 L28.3562 423.977 L18.2347 423.977 L18.2347 418.088 Z\" fill=\"#000000\" fill-rule=\"nonzero\" fill-opacity=\"1\" /><path clip-path=\"url(#clip920)\" d=\"M28.3562 398.323 L28.3562 392.466 L64.0042 392.466 L64.0042 398.323 L28.3562 398.323 M14.479 398.323 L14.479 392.466 L21.895 392.466 L21.895 398.323 L14.479 398.323 Z\" fill=\"#000000\" fill-rule=\"nonzero\" fill-opacity=\"1\" /><path clip-path=\"url(#clip920)\" d=\"M32.4621 366.399 Q32.4621 371.109 36.1542 373.847 Q39.8145 376.584 46.212 376.584 Q52.6095 376.584 56.3017 373.879 Q59.9619 371.141 59.9619 366.399 Q59.9619 361.72 56.2698 358.983 Q52.5777 356.246 46.212 356.246 Q39.8781 356.246 36.186 358.983 Q32.4621 361.72 32.4621 366.399 M27.4968 366.399 Q27.4968 358.76 32.4621 354.399 Q37.4273 350.039 46.212 350.039 Q54.9649 350.039 59.9619 354.399 Q64.9272 358.76 64.9272 366.399 Q64.9272 374.07 59.9619 378.43 Q54.9649 382.759 46.212 382.759 Q37.4273 382.759 32.4621 378.43 Q27.4968 374.07 27.4968 366.399 Z\" fill=\"#000000\" fill-rule=\"nonzero\" fill-opacity=\"1\" /><path clip-path=\"url(#clip920)\" d=\"M42.4881 310.699 L64.0042 310.699 L64.0042 316.555 L42.679 316.555 Q37.6183 316.555 35.1038 318.529 Q32.5894 320.502 32.5894 324.449 Q32.5894 329.191 35.6131 331.929 Q38.6368 334.666 43.8567 334.666 L64.0042 334.666 L64.0042 340.554 L28.3562 340.554 L28.3562 334.666 L33.8944 334.666 Q30.6797 332.565 29.0883 329.732 Q27.4968 326.868 27.4968 323.144 Q27.4968 317.001 31.3163 313.85 Q35.1038 310.699 42.4881 310.699 Z\" fill=\"#000000\" fill-rule=\"nonzero\" fill-opacity=\"1\" /><polyline clip-path=\"url(#clip922)\" style=\"stroke:#009af9; stroke-linecap:round; stroke-linejoin:round; stroke-width:4; stroke-opacity:1; fill:none\" points=\"280.231,828.25 300.556,1297.19 320.881,236.023 341.206,837.009 361.53,187.453 381.855,1196.63 402.18,985.349 422.505,1217.38 442.83,1279.05 463.155,1358.31 483.48,882.58 503.804,894.125 524.129,894.138 544.454,295.769 564.779,733.939 585.104,708.238 605.429,712.323 625.753,112.198 646.078,132.507 666.403,1046.16 686.728,1228.21 707.053,1338.06 727.378,474.085 747.703,1334.75 768.027,1353.61 788.352,1241.58 808.677,721.702 829.002,844.216 849.327,905.217 869.652,1042.3 889.977,658.933 910.301,800.186 930.626,745.337 950.951,1263.33 971.276,1060.81 991.601,1323.65 1011.93,708.442 1032.25,1117.26 1052.58,516.167 1072.9,204.938 1093.23,689.13 1113.55,222.405 1133.87,1154.62 1154.2,541.429 1174.52,1384.24 1194.85,1083.22 1215.17,887.542 1235.5,157.066 1255.82,128.849 1276.15,1195.2 1296.47,1257.01 1316.8,962.48 1337.12,456.165 1357.45,1345.17 1377.77,1277.45 1398.1,86.1857 1418.42,1204.79 1438.75,813.88 1459.07,834.98 1479.4,1123.2 1499.72,850.916 1520.05,762.617 1540.37,353.979 1560.7,1169.38 1581.02,665.848 1601.35,1328.59 1621.67,188.421 1642,455.836 1662.32,1313.14 1682.65,982.447 1702.97,168.599 1723.3,200.713 1743.62,1377.53 1763.95,820.323 1784.27,348.455 1804.59,1339.39 1824.92,794.028 1845.24,560.953 1865.57,867.702 1885.89,1008.67 1906.22,1198.04 1926.54,828.972 1946.87,1075.25 1967.19,958.339 1987.52,727.885 2007.84,1073.1 2028.17,393.29 2048.49,951.436 2068.82,1188.24 2089.14,396.894 2109.47,1205.78 2129.79,849.198 2150.12,752.726 2170.44,1337.27 2190.77,1063.7 2211.09,1182.81 2231.42,1163.29 2251.74,1351.91 2272.07,1113.07 2292.39,714.656 \"/>\n",
              "<path clip-path=\"url(#clip920)\" d=\"M2015.94 196.789 L2281.66 196.789 L2281.66 93.1086 L2015.94 93.1086  Z\" fill=\"#ffffff\" fill-rule=\"evenodd\" fill-opacity=\"1\"/>\n",
              "<polyline clip-path=\"url(#clip920)\" style=\"stroke:#000000; stroke-linecap:round; stroke-linejoin:round; stroke-width:4; stroke-opacity:1; fill:none\" points=\"2015.94,196.789 2281.66,196.789 2281.66,93.1086 2015.94,93.1086 2015.94,196.789 \"/>\n",
              "<polyline clip-path=\"url(#clip920)\" style=\"stroke:#009af9; stroke-linecap:round; stroke-linejoin:round; stroke-width:4; stroke-opacity:1; fill:none\" points=\"2039.64,144.949 2181.83,144.949 \"/>\n",
              "<path clip-path=\"url(#clip920)\" d=\"M2219.37 164.636 Q2217.57 169.266 2215.85 170.678 Q2214.14 172.09 2211.27 172.09 L2207.87 172.09 L2207.87 168.525 L2210.37 168.525 Q2212.13 168.525 2213.1 167.692 Q2214.07 166.858 2215.25 163.756 L2216.02 161.812 L2205.53 136.303 L2210.04 136.303 L2218.15 156.581 L2226.25 136.303 L2230.76 136.303 L2219.37 164.636 Z\" fill=\"#000000\" fill-rule=\"nonzero\" fill-opacity=\"1\" /><path clip-path=\"url(#clip920)\" d=\"M2238.05 158.293 L2245.69 158.293 L2245.69 131.928 L2237.38 133.595 L2237.38 129.335 L2245.65 127.669 L2250.32 127.669 L2250.32 158.293 L2257.96 158.293 L2257.96 162.229 L2238.05 162.229 L2238.05 158.293 Z\" fill=\"#000000\" fill-rule=\"nonzero\" fill-opacity=\"1\" /></svg>\n"
            ]
          },
          "metadata": {},
          "output_type": "display_data"
        }
      ],
      "source": [
        "plot(x,xlabel = \"Years\", ylabel = \"Phosphorus Concentration\") #conc. is dimensionless"
      ]
    },
    {
      "cell_type": "markdown",
      "id": "d53acbdc",
      "metadata": {},
      "source": [
        " The value of the objective function is 0.193. This is the approximated minimum value. \n",
        " \n",
        " The fail constant is 0.9. This means that 100% of the values found in the optimization are over the critical x-value."
      ]
    },
    {
      "cell_type": "markdown",
      "id": "6e0c043b-2186-4baf-be5d-d46b7ed83bc7",
      "metadata": {},
      "source": [
        "### Problem 2 (5 points)\n",
        "Feel free to experiment with some of the degrees of freedom in finding\n",
        "the optimum value. For example:\n",
        "\n",
        "-   What failure probability are you using to characterize acceptable\n",
        "    solutions?\n",
        "-   How many Monte Carlo samples are you using?\n",
        "-   What bounds are you searching over for the releases?\n",
        "-   How many function evaluations are you using for the search?\n",
        "-   What is the impact of different [`Metaheuristics.jl`\n",
        "    algorithms](https://docs.juliahub.com/Metaheuristics/aJ70z/3.2.12/algorithms/)?\n",
        "\n",
        "Note that you might want to modify some of these together: for example,\n",
        "lower acceptable failure probabilities often require more function\n",
        "evaluations to find acceptable values, and more Monte Carlo samples\n",
        "increase computational expense, so fewer function evaluations may be\n",
        "completed in the same time.\n",
        "\n",
        "Provide a description of what you’ve modified and why. What was the new\n",
        "solution that you found? Does it satisfy the constraints?"
      ]
    },
    {
      "cell_type": "markdown",
      "id": "b2d9cb77",
      "metadata": {},
      "source": [
        "##### Trial 1 - Monte Carlo: \n",
        "\n",
        "The first thing I looked to do was change the number of trials to try and find the optimal solution for the model. From prior work done for class (Lab 2), we found that 10,000 is normall a large enough number of trials to find convergence. "
      ]
    },
    {
      "cell_type": "code",
      "execution_count": 12,
      "id": "72dd0c28",
      "metadata": {},
      "outputs": [
        {
          "data": {
            "text/html": [
              "<pre>\n",
              "Optimization Result\n",
              "===================\n",
              "  Iteration:       10\n",
              "  Minimum:         0.172509\n",
              "  Minimizer:       [0.415981, 0.0409771, 0.0683493, …, 0.0688021]\n",
              "  Function calls:  10000\n",
              "  Feasibles:       0 / 1000 in final population\n",
              "  Total time:      60.3153 s\n",
              "  Stop reason:     Maximum objective function calls exceeded.\n",
              "</pre>\n"
            ],
            "text/plain": [
              "\u001b[34m\u001b[1mOptimization Result\u001b[22m\u001b[39m\n",
              "\u001b[39m===================\u001b[39m\n",
              "  Iteration:       10\n",
              "  Minimum:         0.172509\n",
              "  Minimizer:       [0.415981, 0.0409771, 0.0683493, …, 0.0688021]\n",
              "  Function calls:  10000\n",
              "  Feasibles:       0 / 1000 in final population\n",
              "  Total time:      60.3153 s\n",
              "  Stop reason:     Maximum objective function calls exceeded.\n"
            ]
          },
          "metadata": {},
          "output_type": "display_data"
        }
      ],
      "source": [
        "#changing max_evals \n",
        "Random.seed!(1)\n",
        "bounds = [zeros(T) 0.5ones(T)]'\n",
        "q=2.5\n",
        "b= 0.4\n",
        "t=100\n",
        "max_evals = 10000\n",
        "\n",
        "results = optimize(a -> lake_opt(a, y, q, b, t, Xcrit), bounds, DE(options=Options(f_calls_limit=max_evals)))"
      ]
    },
    {
      "cell_type": "code",
      "execution_count": 13,
      "id": "6db6802e",
      "metadata": {},
      "outputs": [
        {
          "data": {
            "text/plain": [
              "(0.17250903682822083, [0.9], [0.0])"
            ]
          },
          "metadata": {},
          "output_type": "display_data"
        }
      ],
      "source": [
        "x = minimizer(results)\n",
        "lake_opt(x, y, q, b, t, Xcrit)"
      ]
    },
    {
      "cell_type": "markdown",
      "id": "56eb6f83",
      "metadata": {},
      "source": [
        "From this, we can see that there is no change – the error remains to be 100%."
      ]
    },
    {
      "cell_type": "markdown",
      "id": "9260829b",
      "metadata": {},
      "source": [
        "##### Trial 2 - Metaheuristics algorithms\n",
        "\n",
        "As taught in lecture, Metaheuristics algorithms can be used for optimizing a model."
      ]
    },
    {
      "cell_type": "code",
      "execution_count": 14,
      "id": "9b32f951",
      "metadata": {},
      "outputs": [
        {
          "data": {
            "text/plain": [
              "(f = 1.7251e-01, g = [0.9], h = [0.0], x = [0.415981, 0.0409771, 0.0683493, …, 0.0688021])"
            ]
          },
          "metadata": {},
          "output_type": "display_data"
        }
      ],
      "source": [
        "#What is the impact of different [`Metaheuristics.jl` algorithms]\n",
        "Random.seed!(1)\n",
        "#what is the objective value? are variables feasible?\n",
        "bounds = [zeros(T) 0.5ones(T)]'\n",
        "q=2.5\n",
        "b= 0.4\n",
        "t=100\n",
        "max_evals = 10000\n",
        "\n",
        "results = optimize(a -> lake_opt(a, y, q, b, t, Xcrit), bounds, DE(options=Options(f_calls_limit=max_evals)))\n",
        "# optimize\n",
        "results.best_sol\n",
        "\n",
        "#no solutions because g=0.9 --> fails all the time"
      ]
    },
    {
      "cell_type": "markdown",
      "id": "ef541bb7",
      "metadata": {},
      "source": [
        "Using the Metaheuristics algorithm, there is still an error of 100%."
      ]
    },
    {
      "cell_type": "markdown",
      "id": "27366fe7",
      "metadata": {},
      "source": [
        "##### Trial 3 - Changing the bounds"
      ]
    },
    {
      "cell_type": "code",
      "execution_count": 15,
      "id": "e1046ef1",
      "metadata": {},
      "outputs": [
        {
          "data": {
            "text/plain": [
              "(0.1158521427582889, [0.9], [0.0])"
            ]
          },
          "metadata": {},
          "output_type": "display_data"
        }
      ],
      "source": [
        "#changing bounds - 1\n",
        "Random.seed!(1)\n",
        "bounds = [zeros(T) 0.3ones(T)]'\n",
        "q=2.5\n",
        "b= 0.4\n",
        "t=100\n",
        "max_evals = 5000\n",
        "\n",
        "results = optimize(a -> lake_opt(a, y, q, b, t, Xcrit), bounds, DE(options=Options(f_calls_limit=max_evals)))\n",
        "\n",
        "x = minimizer(results)\n",
        "lake_opt(x, y, q, b, t, Xcrit)"
      ]
    },
    {
      "cell_type": "code",
      "execution_count": 25,
      "id": "1ac70bef",
      "metadata": {},
      "outputs": [
        {
          "data": {
            "text/plain": [
              "(0.03699524051830697, [-0.081], [0.0])"
            ]
          },
          "metadata": {},
          "output_type": "display_data"
        }
      ],
      "source": [
        "#trial 3b\n",
        "Random.seed!(1)\n",
        "bounds = [zeros(T) 0.1ones(T)]'\n",
        "q=2.5\n",
        "b= 0.4\n",
        "t=100\n",
        "max_evals = 5000\n",
        "\n",
        "results = optimize(a -> lake_opt(a, y, q, b, t, Xcrit), bounds, DE(options=Options(f_calls_limit=max_evals)))\n",
        "\n",
        "x = minimizer(results)\n",
        "lake_opt(x, y, q, b, t, Xcrit)\n",
        "\n",
        "#results show that these bounds is minimally successful because the rate of being above is (Percent above)-.1; feasibility can be a value ranging from [-.1,.9]"
      ]
    },
    {
      "cell_type": "code",
      "execution_count": 17,
      "id": "630bbe9e",
      "metadata": {},
      "outputs": [
        {
          "data": {
            "text/plain": [
              "(0.17723476183885925, [0.9], [0.0])"
            ]
          },
          "metadata": {},
          "output_type": "display_data"
        }
      ],
      "source": [
        "#3c\n",
        "Random.seed!(1)\n",
        "bounds = [0.1ones(T) 0.3ones(T)]'\n",
        "q=2.5\n",
        "b= 0.4\n",
        "t=100\n",
        "max_evals = 5000\n",
        "\n",
        "results = optimize(a -> lake_opt(a, y, q, b, t, Xcrit), bounds, DE(options=Options(f_calls_limit=max_evals)))\n",
        "\n",
        "x = minimizer(results)\n",
        "lake_opt(x, y, q, b, t, Xcrit)"
      ]
    },
    {
      "cell_type": "code",
      "execution_count": 26,
      "id": "c86a7f5e",
      "metadata": {},
      "outputs": [
        {
          "data": {
            "text/plain": [
              "(0.09386173809194297, [0.9], [0.0])"
            ]
          },
          "metadata": {},
          "output_type": "display_data"
        }
      ],
      "source": [
        "#3d\n",
        "Random.seed!(1)\n",
        "bounds = [0.09ones(T) 0.1ones(T)]'\n",
        "q=2.5\n",
        "b= 0.4\n",
        "t=100\n",
        "max_evals = 5000\n",
        "\n",
        "results = optimize(a -> lake_opt(a, y, q, b, t, Xcrit), bounds, DE(options=Options(f_calls_limit=max_evals)))\n",
        "\n",
        "x = minimizer(results)\n",
        "lake_opt(x, y, q, b, t, Xcrit)"
      ]
    },
    {
      "cell_type": "code",
      "execution_count": 28,
      "id": "c50ff805",
      "metadata": {},
      "outputs": [
        {
          "data": {
            "text/plain": [
              "(0.06930869045971483, [0.9], [0.0])"
            ]
          },
          "metadata": {},
          "output_type": "display_data"
        }
      ],
      "source": [
        "#3e\n",
        "Random.seed!(1)\n",
        "bounds = [0.05ones(T) 0.1ones(T)]'\n",
        "q=2.5\n",
        "b= 0.4\n",
        "t=100\n",
        "max_evals = 5000\n",
        "\n",
        "results = optimize(a -> lake_opt(a, y, q, b, t, Xcrit), bounds, DE(options=Options(f_calls_limit=max_evals)))\n",
        "\n",
        "x = minimizer(results)\n",
        "lake_opt(x, y, q, b, t, Xcrit)"
      ]
    },
    {
      "cell_type": "code",
      "execution_count": 37,
      "id": "b8a3ec52",
      "metadata": {},
      "outputs": [
        {
          "data": {
            "text/plain": [
              "(0.019308690459714818, [-0.1], [0.0])"
            ]
          },
          "metadata": {},
          "output_type": "display_data"
        }
      ],
      "source": [
        "#3f\n",
        "Random.seed!(1)\n",
        "bounds = [zeros(T) 0.05ones(T)]'\n",
        "q=2.5\n",
        "b= 0.4\n",
        "t=100\n",
        "max_evals = 5000\n",
        "\n",
        "results = optimize(a -> lake_opt(a, y, q, b, t, Xcrit), bounds, DE(options=Options(f_calls_limit=max_evals)))\n",
        "\n",
        "x = minimizer(results)\n",
        "lake_opt(x, y, q, b, t, Xcrit)"
      ]
    },
    {
      "cell_type": "code",
      "execution_count": 36,
      "id": "4cfa3788",
      "metadata": {},
      "outputs": [
        {
          "data": {
            "text/plain": [
              "(0.04394298758443444, [0.636], [0.0])"
            ]
          },
          "metadata": {},
          "output_type": "display_data"
        }
      ],
      "source": [
        "#3f\n",
        "Random.seed!(1)\n",
        "bounds = [0.04ones(T) 0.05ones(T)]'\n",
        "q=2.5\n",
        "b= 0.4\n",
        "t=100\n",
        "max_evals = 5000\n",
        "\n",
        "results = optimize(a -> lake_opt(a, y, q, b, t, Xcrit), bounds, DE(options=Options(f_calls_limit=max_evals)))\n",
        "\n",
        "x = minimizer(results)\n",
        "lake_opt(x, y, q, b, t, Xcrit)"
      ]
    },
    {
      "cell_type": "markdown",
      "id": "0f140b6c",
      "metadata": {},
      "source": [
        "From all the bound changes, it is clear that for all bounds (except [0,0.1], [0,0.05], and [0.05,1]), the feasibility of the model is 0, meaning that there is 100% failure. Given this information, we know that the optimal solution must be somewhere within the bound of [0,0.1]. When I found this out, I decided to add more bound changes which included [0.05,0.1], [0,0.05], and [0.04,0.05]. Given all these changes, we can see that the optimal solution must be within the bounds of [0,0.05] and will be most likely a value between 0.019 (result from bound change of 0 to 0.05) and 0.069 (result from bound change of 0.05 to 1). This data makes sense from what we have learned because when the bounds are decreased, there is a more finite number of tests that increases the exactness fo the solution. I decided after doing 7 bound changes (and a few additional not shown above), I would stop my analysis of the bounds. If I were to be doing this for research or to converge on one solution, I would continue to look at the range between 0 and 0.05 to see where the optial result is found. "
      ]
    },
    {
      "cell_type": "markdown",
      "id": "32d93ec4",
      "metadata": {},
      "source": [
        "##### Compiled Data"
      ]
    },
    {
      "cell_type": "code",
      "execution_count": 40,
      "id": "6d397110",
      "metadata": {},
      "outputs": [
        {
          "data": {
            "text/html": [
              "<div><div style = \"float: left;\"><span>9×3 DataFrame</span></div><div style = \"clear: both;\"></div></div><div class = \"data-frame\" style = \"overflow-x: scroll;\"><table class = \"data-frame\" style = \"margin-bottom: 6px;\"><thead><tr class = \"header\"><th class = \"rowNumber\" style = \"font-weight: bold; text-align: right;\">Row</th><th style = \"text-align: left;\">Trial</th><th style = \"text-align: left;\">Minimizer</th><th style = \"text-align: left;\">Error</th></tr><tr class = \"subheader headerLastRow\"><th class = \"rowNumber\" style = \"font-weight: bold; text-align: right;\"></th><th title = \"String\" style = \"text-align: left;\">String</th><th title = \"String\" style = \"text-align: left;\">String</th><th title = \"String\" style = \"text-align: left;\">String</th></tr></thead><tbody><tr><td class = \"rowNumber\" style = \"font-weight: bold; text-align: right;\">1</td><td style = \"text-align: left;\">Monte Carlo</td><td style = \"text-align: left;\">0.173</td><td style = \"text-align: left;\">0.9</td></tr><tr><td class = \"rowNumber\" style = \"font-weight: bold; text-align: right;\">2</td><td style = \"text-align: left;\">Metaheuristics algorithms</td><td style = \"text-align: left;\">0.173</td><td style = \"text-align: left;\">0.9</td></tr><tr><td class = \"rowNumber\" style = \"font-weight: bold; text-align: right;\">3</td><td style = \"text-align: left;\">Bound Change: [0,0.3]</td><td style = \"text-align: left;\">0.116</td><td style = \"text-align: left;\">0.9</td></tr><tr><td class = \"rowNumber\" style = \"font-weight: bold; text-align: right;\">4</td><td style = \"text-align: left;\">Bound Change: [0,0.1]</td><td style = \"text-align: left;\">0.037</td><td style = \"text-align: left;\">-0.081</td></tr><tr><td class = \"rowNumber\" style = \"font-weight: bold; text-align: right;\">5</td><td style = \"text-align: left;\">Bound Change: [0.1,0.3]</td><td style = \"text-align: left;\">0.176</td><td style = \"text-align: left;\">0.9</td></tr><tr><td class = \"rowNumber\" style = \"font-weight: bold; text-align: right;\">6</td><td style = \"text-align: left;\">Bound Change: [0.09,0.1]</td><td style = \"text-align: left;\">0.093</td><td style = \"text-align: left;\">0.9</td></tr><tr><td class = \"rowNumber\" style = \"font-weight: bold; text-align: right;\">7</td><td style = \"text-align: left;\">Bound Change: [0.05,0.1]</td><td style = \"text-align: left;\">0.069</td><td style = \"text-align: left;\">0.9</td></tr><tr><td class = \"rowNumber\" style = \"font-weight: bold; text-align: right;\">8</td><td style = \"text-align: left;\">Bound Change: [0,0.05]</td><td style = \"text-align: left;\">0.019</td><td style = \"text-align: left;\">-0.1</td></tr><tr><td class = \"rowNumber\" style = \"font-weight: bold; text-align: right;\">9</td><td style = \"text-align: left;\">Bound Change: [0.04,0.05]</td><td style = \"text-align: left;\">0.044</td><td style = \"text-align: left;\">0.636</td></tr></tbody></table></div>"
            ],
            "text/latex": [
              "\\begin{tabular}{r|ccc}\n",
              "\t& Trial & Minimizer & Error\\\\\n",
              "\t\\hline\n",
              "\t& String & String & String\\\\\n",
              "\t\\hline\n",
              "\t1 & Monte Carlo & 0.173 & 0.9 \\\\\n",
              "\t2 & Metaheuristics algorithms & 0.173 & 0.9 \\\\\n",
              "\t3 & Bound Change: [0,0.3] & 0.116 & 0.9 \\\\\n",
              "\t4 & Bound Change: [0,0.1] & 0.037 & -0.081 \\\\\n",
              "\t5 & Bound Change: [0.1,0.3] & 0.176 & 0.9 \\\\\n",
              "\t6 & Bound Change: [0.09,0.1] & 0.093 & 0.9 \\\\\n",
              "\t7 & Bound Change: [0.05,0.1] & 0.069 & 0.9 \\\\\n",
              "\t8 & Bound Change: [0,0.05] & 0.019 & -0.1 \\\\\n",
              "\t9 & Bound Change: [0.04,0.05] & 0.044 & 0.636 \\\\\n",
              "\\end{tabular}\n"
            ],
            "text/plain": [
              "\u001b[1m9×3 DataFrame\u001b[0m\n",
              "\u001b[1m Row \u001b[0m│\u001b[1m Trial                     \u001b[0m\u001b[1m Minimizer \u001b[0m\u001b[1m Error  \u001b[0m\n",
              "     │\u001b[90m String                    \u001b[0m\u001b[90m String    \u001b[0m\u001b[90m String \u001b[0m\n",
              "─────┼──────────────────────────────────────────────\n",
              "   1 │ Monte Carlo                0.173      0.9\n",
              "   2 │ Metaheuristics algorithms  0.173      0.9\n",
              "   3 │ Bound Change: [0,0.3]      0.116      0.9\n",
              "   4 │ Bound Change: [0,0.1]      0.037      -0.081\n",
              "   5 │ Bound Change: [0.1,0.3]    0.176      0.9\n",
              "   6 │ Bound Change: [0.09,0.1]   0.093      0.9\n",
              "   7 │ Bound Change: [0.05,0.1]   0.069      0.9\n",
              "   8 │ Bound Change: [0,0.05]     0.019      -0.1\n",
              "   9 │ Bound Change: [0.04,0.05]  0.044      0.636"
            ]
          },
          "metadata": {},
          "output_type": "display_data"
        }
      ],
      "source": [
        "# Creating a data frame\n",
        "#import Pkg\n",
        "#Pkg.add(\"DataFrames\")\n",
        "using DataFrames\n",
        "\n",
        " \n",
        "df = DataFrame(Trial= [\"Monte Carlo\", \"Metaheuristics algorithms\", \"Bound Change: [0,0.3]\",\"Bound Change: [0,0.1]\",\"Bound Change: [0.1,0.3]\",\"Bound Change: [0.09,0.1]\",\"Bound Change: [0.05,0.1]\",\"Bound Change: [0,0.05]\",\"Bound Change: [0.04,0.05]\"],  \n",
        "                        Minimizer= [\"0.173\", \"0.173\", \"0.116\", \"0.037\", \"0.176\",\"0.093\",\"0.069\",\"0.019\",\"0.044\"],\n",
        "                        Error = [\"0.9\", \"0.9\", \"0.9\", \"-0.081\", \"0.9\",\"0.9\",\"0.9\",\"-0.1\",\"0.636\"])"
      ]
    },
    {
      "cell_type": "markdown",
      "id": "b6a2f2be-6094-4883-aead-180cdb6dc3cc",
      "metadata": {},
      "source": [
        "### Problem 3 (3 points)\n",
        "\n",
        "What did you learn about the use of these methods? Compare with your\n",
        "experience with linear programming from earlier in the semester.\n",
        "\n"
      ]
    },
    {
      "cell_type": "markdown",
      "id": "40ac6bd1",
      "metadata": {},
      "source": [
        "All these methods are very useful in their own specific ways. Monte Carlo is a great method to use when trying to predict the number of successes. However, the number of trials is a big component that could make or break the success of Monte Carlo. If you do not have enough trials, you may not converge on a solution for the model. Using the heuristic model is a good method when you want to have a approximation. This method takes very little time for its computation. However, it makes its guess using various assumptions. This means that it would not be a good method to use if you need a very accurate solution. For this reason, I would not use it in a situation that cannot have significant error (like if I needed to use it for my job, post grad). Changing the bounds helps find the range of values in which the minimum can be found. This takes the most time because you need to try each bound possility individually; finding good bounds could take a lot of time and trials. \n",
        "\n",
        "When comparing these methods to JuMP, they have both positives and negatives. The main positive is that they do not require as many constraints as JuMP. They are much easier to set up, and, in that regard, take less time. The main downside of the above methods is their accuracies. JuMP is more accurate than the other optimization methods, so if you are looking for more accuracy in a system, JuMP will be your best options. "
      ]
    },
    {
      "cell_type": "markdown",
      "id": "240d25b8",
      "metadata": {},
      "source": [
        "## References\n",
        "\n",
        "Put any consulted sources here, including classmates you worked with/who\n",
        "helped you.\n",
        "\n",
        "I went to Tuesday OH, received help in class, and worked with Teagan Smith."
      ]
    }
  ],
  "metadata": {
    "kernelspec": {
      "display_name": "Julia 1.9.2",
      "language": "julia",
      "name": "julia-1.9"
    },
    "language_info": {
      "file_extension": ".jl",
      "mimetype": "application/julia",
      "name": "julia",
      "version": "1.9.2"
    }
  },
  "nbformat": 4,
  "nbformat_minor": 5
}
